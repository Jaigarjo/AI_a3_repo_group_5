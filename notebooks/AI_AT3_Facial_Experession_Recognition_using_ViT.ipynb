{
  "metadata": {
    "kernelspec": {
      "display_name": "Python 3",
      "name": "python3"
    },
    "language_info": {
      "name": "python",
      "version": "3.10.12",
      "mimetype": "text/x-python",
      "codemirror_mode": {
        "name": "ipython",
        "version": 3
      },
      "pygments_lexer": "ipython3",
      "nbconvert_exporter": "python",
      "file_extension": ".py"
    },
    "kaggle": {
      "accelerator": "gpu",
      "dataSources": [
        {
          "sourceId": 1218456,
          "sourceType": "datasetVersion",
          "datasetId": 696331
        },
        {
          "sourceId": 1351797,
          "sourceType": "datasetVersion",
          "datasetId": 786787
        },
        {
          "sourceId": 4860972,
          "sourceType": "datasetVersion",
          "datasetId": 2812806
        },
        {
          "sourceId": 7268123,
          "sourceType": "datasetVersion",
          "datasetId": 4213100
        }
      ],
      "dockerImageVersionId": 30627,
      "isInternetEnabled": true,
      "language": "python",
      "sourceType": "notebook",
      "isGpuEnabled": true
    },
    "colab": {
      "provenance": [],
      "gpuType": "T4"
    },
    "widgets": {
      "application/vnd.jupyter.widget-state+json": {
        "937ea35f32054da38ae345d5301d99b3": {
          "model_module": "@jupyter-widgets/controls",
          "model_name": "HBoxModel",
          "model_module_version": "1.5.0",
          "state": {
            "_dom_classes": [],
            "_model_module": "@jupyter-widgets/controls",
            "_model_module_version": "1.5.0",
            "_model_name": "HBoxModel",
            "_view_count": null,
            "_view_module": "@jupyter-widgets/controls",
            "_view_module_version": "1.5.0",
            "_view_name": "HBoxView",
            "box_style": "",
            "children": [
              "IPY_MODEL_5075300d8481494f8b4d66dd03937b04",
              "IPY_MODEL_606022e1686e458cb2ac86260709784c",
              "IPY_MODEL_a0607ece402b45d78d3f7bcf93ab7cdb"
            ],
            "layout": "IPY_MODEL_debceea512404c68a3c7211f6ba8ed90"
          }
        },
        "5075300d8481494f8b4d66dd03937b04": {
          "model_module": "@jupyter-widgets/controls",
          "model_name": "HTMLModel",
          "model_module_version": "1.5.0",
          "state": {
            "_dom_classes": [],
            "_model_module": "@jupyter-widgets/controls",
            "_model_module_version": "1.5.0",
            "_model_name": "HTMLModel",
            "_view_count": null,
            "_view_module": "@jupyter-widgets/controls",
            "_view_module_version": "1.5.0",
            "_view_name": "HTMLView",
            "description": "",
            "description_tooltip": null,
            "layout": "IPY_MODEL_4830262fa13a411eaa0230dc5f42c652",
            "placeholder": "​",
            "style": "IPY_MODEL_3e72617442e743f1b1fc0d2ecb55b6ac",
            "value": "Resolving data files: 100%"
          }
        },
        "606022e1686e458cb2ac86260709784c": {
          "model_module": "@jupyter-widgets/controls",
          "model_name": "FloatProgressModel",
          "model_module_version": "1.5.0",
          "state": {
            "_dom_classes": [],
            "_model_module": "@jupyter-widgets/controls",
            "_model_module_version": "1.5.0",
            "_model_name": "FloatProgressModel",
            "_view_count": null,
            "_view_module": "@jupyter-widgets/controls",
            "_view_module_version": "1.5.0",
            "_view_name": "ProgressView",
            "bar_style": "success",
            "description": "",
            "description_tooltip": null,
            "layout": "IPY_MODEL_13b15fb0be8349a8bf6a501d23d5db47",
            "max": 28709,
            "min": 0,
            "orientation": "horizontal",
            "style": "IPY_MODEL_5fedd7af80604cbd9f1158a100097ad4",
            "value": 28709
          }
        },
        "a0607ece402b45d78d3f7bcf93ab7cdb": {
          "model_module": "@jupyter-widgets/controls",
          "model_name": "HTMLModel",
          "model_module_version": "1.5.0",
          "state": {
            "_dom_classes": [],
            "_model_module": "@jupyter-widgets/controls",
            "_model_module_version": "1.5.0",
            "_model_name": "HTMLModel",
            "_view_count": null,
            "_view_module": "@jupyter-widgets/controls",
            "_view_module_version": "1.5.0",
            "_view_name": "HTMLView",
            "description": "",
            "description_tooltip": null,
            "layout": "IPY_MODEL_f16f9a5b9154420ba136dd93405b8e5a",
            "placeholder": "​",
            "style": "IPY_MODEL_1e212bbade78498e93f781551704386b",
            "value": " 28709/28709 [00:00&lt;00:00, 140012.51it/s]"
          }
        },
        "debceea512404c68a3c7211f6ba8ed90": {
          "model_module": "@jupyter-widgets/base",
          "model_name": "LayoutModel",
          "model_module_version": "1.2.0",
          "state": {
            "_model_module": "@jupyter-widgets/base",
            "_model_module_version": "1.2.0",
            "_model_name": "LayoutModel",
            "_view_count": null,
            "_view_module": "@jupyter-widgets/base",
            "_view_module_version": "1.2.0",
            "_view_name": "LayoutView",
            "align_content": null,
            "align_items": null,
            "align_self": null,
            "border": null,
            "bottom": null,
            "display": null,
            "flex": null,
            "flex_flow": null,
            "grid_area": null,
            "grid_auto_columns": null,
            "grid_auto_flow": null,
            "grid_auto_rows": null,
            "grid_column": null,
            "grid_gap": null,
            "grid_row": null,
            "grid_template_areas": null,
            "grid_template_columns": null,
            "grid_template_rows": null,
            "height": null,
            "justify_content": null,
            "justify_items": null,
            "left": null,
            "margin": null,
            "max_height": null,
            "max_width": null,
            "min_height": null,
            "min_width": null,
            "object_fit": null,
            "object_position": null,
            "order": null,
            "overflow": null,
            "overflow_x": null,
            "overflow_y": null,
            "padding": null,
            "right": null,
            "top": null,
            "visibility": null,
            "width": null
          }
        },
        "4830262fa13a411eaa0230dc5f42c652": {
          "model_module": "@jupyter-widgets/base",
          "model_name": "LayoutModel",
          "model_module_version": "1.2.0",
          "state": {
            "_model_module": "@jupyter-widgets/base",
            "_model_module_version": "1.2.0",
            "_model_name": "LayoutModel",
            "_view_count": null,
            "_view_module": "@jupyter-widgets/base",
            "_view_module_version": "1.2.0",
            "_view_name": "LayoutView",
            "align_content": null,
            "align_items": null,
            "align_self": null,
            "border": null,
            "bottom": null,
            "display": null,
            "flex": null,
            "flex_flow": null,
            "grid_area": null,
            "grid_auto_columns": null,
            "grid_auto_flow": null,
            "grid_auto_rows": null,
            "grid_column": null,
            "grid_gap": null,
            "grid_row": null,
            "grid_template_areas": null,
            "grid_template_columns": null,
            "grid_template_rows": null,
            "height": null,
            "justify_content": null,
            "justify_items": null,
            "left": null,
            "margin": null,
            "max_height": null,
            "max_width": null,
            "min_height": null,
            "min_width": null,
            "object_fit": null,
            "object_position": null,
            "order": null,
            "overflow": null,
            "overflow_x": null,
            "overflow_y": null,
            "padding": null,
            "right": null,
            "top": null,
            "visibility": null,
            "width": null
          }
        },
        "3e72617442e743f1b1fc0d2ecb55b6ac": {
          "model_module": "@jupyter-widgets/controls",
          "model_name": "DescriptionStyleModel",
          "model_module_version": "1.5.0",
          "state": {
            "_model_module": "@jupyter-widgets/controls",
            "_model_module_version": "1.5.0",
            "_model_name": "DescriptionStyleModel",
            "_view_count": null,
            "_view_module": "@jupyter-widgets/base",
            "_view_module_version": "1.2.0",
            "_view_name": "StyleView",
            "description_width": ""
          }
        },
        "13b15fb0be8349a8bf6a501d23d5db47": {
          "model_module": "@jupyter-widgets/base",
          "model_name": "LayoutModel",
          "model_module_version": "1.2.0",
          "state": {
            "_model_module": "@jupyter-widgets/base",
            "_model_module_version": "1.2.0",
            "_model_name": "LayoutModel",
            "_view_count": null,
            "_view_module": "@jupyter-widgets/base",
            "_view_module_version": "1.2.0",
            "_view_name": "LayoutView",
            "align_content": null,
            "align_items": null,
            "align_self": null,
            "border": null,
            "bottom": null,
            "display": null,
            "flex": null,
            "flex_flow": null,
            "grid_area": null,
            "grid_auto_columns": null,
            "grid_auto_flow": null,
            "grid_auto_rows": null,
            "grid_column": null,
            "grid_gap": null,
            "grid_row": null,
            "grid_template_areas": null,
            "grid_template_columns": null,
            "grid_template_rows": null,
            "height": null,
            "justify_content": null,
            "justify_items": null,
            "left": null,
            "margin": null,
            "max_height": null,
            "max_width": null,
            "min_height": null,
            "min_width": null,
            "object_fit": null,
            "object_position": null,
            "order": null,
            "overflow": null,
            "overflow_x": null,
            "overflow_y": null,
            "padding": null,
            "right": null,
            "top": null,
            "visibility": null,
            "width": null
          }
        },
        "5fedd7af80604cbd9f1158a100097ad4": {
          "model_module": "@jupyter-widgets/controls",
          "model_name": "ProgressStyleModel",
          "model_module_version": "1.5.0",
          "state": {
            "_model_module": "@jupyter-widgets/controls",
            "_model_module_version": "1.5.0",
            "_model_name": "ProgressStyleModel",
            "_view_count": null,
            "_view_module": "@jupyter-widgets/base",
            "_view_module_version": "1.2.0",
            "_view_name": "StyleView",
            "bar_color": null,
            "description_width": ""
          }
        },
        "f16f9a5b9154420ba136dd93405b8e5a": {
          "model_module": "@jupyter-widgets/base",
          "model_name": "LayoutModel",
          "model_module_version": "1.2.0",
          "state": {
            "_model_module": "@jupyter-widgets/base",
            "_model_module_version": "1.2.0",
            "_model_name": "LayoutModel",
            "_view_count": null,
            "_view_module": "@jupyter-widgets/base",
            "_view_module_version": "1.2.0",
            "_view_name": "LayoutView",
            "align_content": null,
            "align_items": null,
            "align_self": null,
            "border": null,
            "bottom": null,
            "display": null,
            "flex": null,
            "flex_flow": null,
            "grid_area": null,
            "grid_auto_columns": null,
            "grid_auto_flow": null,
            "grid_auto_rows": null,
            "grid_column": null,
            "grid_gap": null,
            "grid_row": null,
            "grid_template_areas": null,
            "grid_template_columns": null,
            "grid_template_rows": null,
            "height": null,
            "justify_content": null,
            "justify_items": null,
            "left": null,
            "margin": null,
            "max_height": null,
            "max_width": null,
            "min_height": null,
            "min_width": null,
            "object_fit": null,
            "object_position": null,
            "order": null,
            "overflow": null,
            "overflow_x": null,
            "overflow_y": null,
            "padding": null,
            "right": null,
            "top": null,
            "visibility": null,
            "width": null
          }
        },
        "1e212bbade78498e93f781551704386b": {
          "model_module": "@jupyter-widgets/controls",
          "model_name": "DescriptionStyleModel",
          "model_module_version": "1.5.0",
          "state": {
            "_model_module": "@jupyter-widgets/controls",
            "_model_module_version": "1.5.0",
            "_model_name": "DescriptionStyleModel",
            "_view_count": null,
            "_view_module": "@jupyter-widgets/base",
            "_view_module_version": "1.2.0",
            "_view_name": "StyleView",
            "description_width": ""
          }
        },
        "913dc57d1d454402b6679ed8415b7a6c": {
          "model_module": "@jupyter-widgets/controls",
          "model_name": "HBoxModel",
          "model_module_version": "1.5.0",
          "state": {
            "_dom_classes": [],
            "_model_module": "@jupyter-widgets/controls",
            "_model_module_version": "1.5.0",
            "_model_name": "HBoxModel",
            "_view_count": null,
            "_view_module": "@jupyter-widgets/controls",
            "_view_module_version": "1.5.0",
            "_view_name": "HBoxView",
            "box_style": "",
            "children": [
              "IPY_MODEL_4b8b987076aa4af39a7f417842a34d11",
              "IPY_MODEL_6a66fbc635c5401c86f7feafbb9b3d35",
              "IPY_MODEL_618cb720b1a141d889bd68e8eb154ec5"
            ],
            "layout": "IPY_MODEL_52b70f63b499445fbeb8174422cbcd83"
          }
        },
        "4b8b987076aa4af39a7f417842a34d11": {
          "model_module": "@jupyter-widgets/controls",
          "model_name": "HTMLModel",
          "model_module_version": "1.5.0",
          "state": {
            "_dom_classes": [],
            "_model_module": "@jupyter-widgets/controls",
            "_model_module_version": "1.5.0",
            "_model_name": "HTMLModel",
            "_view_count": null,
            "_view_module": "@jupyter-widgets/controls",
            "_view_module_version": "1.5.0",
            "_view_name": "HTMLView",
            "description": "",
            "description_tooltip": null,
            "layout": "IPY_MODEL_5f5547a1b17e485abb9f1eb5139d45ab",
            "placeholder": "​",
            "style": "IPY_MODEL_ca5ec9d0535d439d875aa0fac53a098b",
            "value": "Resolving data files: 100%"
          }
        },
        "6a66fbc635c5401c86f7feafbb9b3d35": {
          "model_module": "@jupyter-widgets/controls",
          "model_name": "FloatProgressModel",
          "model_module_version": "1.5.0",
          "state": {
            "_dom_classes": [],
            "_model_module": "@jupyter-widgets/controls",
            "_model_module_version": "1.5.0",
            "_model_name": "FloatProgressModel",
            "_view_count": null,
            "_view_module": "@jupyter-widgets/controls",
            "_view_module_version": "1.5.0",
            "_view_name": "ProgressView",
            "bar_style": "success",
            "description": "",
            "description_tooltip": null,
            "layout": "IPY_MODEL_63e710673557409492fced4b611b47f2",
            "max": 7178,
            "min": 0,
            "orientation": "horizontal",
            "style": "IPY_MODEL_5f5629cdd3f2432a940d2227bdab94a2",
            "value": 7178
          }
        },
        "618cb720b1a141d889bd68e8eb154ec5": {
          "model_module": "@jupyter-widgets/controls",
          "model_name": "HTMLModel",
          "model_module_version": "1.5.0",
          "state": {
            "_dom_classes": [],
            "_model_module": "@jupyter-widgets/controls",
            "_model_module_version": "1.5.0",
            "_model_name": "HTMLModel",
            "_view_count": null,
            "_view_module": "@jupyter-widgets/controls",
            "_view_module_version": "1.5.0",
            "_view_name": "HTMLView",
            "description": "",
            "description_tooltip": null,
            "layout": "IPY_MODEL_10a0d8477e9940c5b4a339a574759029",
            "placeholder": "​",
            "style": "IPY_MODEL_3762cd4720a64e27839308a865ff48d2",
            "value": " 7178/7178 [00:00&lt;00:00, 142682.47it/s]"
          }
        },
        "52b70f63b499445fbeb8174422cbcd83": {
          "model_module": "@jupyter-widgets/base",
          "model_name": "LayoutModel",
          "model_module_version": "1.2.0",
          "state": {
            "_model_module": "@jupyter-widgets/base",
            "_model_module_version": "1.2.0",
            "_model_name": "LayoutModel",
            "_view_count": null,
            "_view_module": "@jupyter-widgets/base",
            "_view_module_version": "1.2.0",
            "_view_name": "LayoutView",
            "align_content": null,
            "align_items": null,
            "align_self": null,
            "border": null,
            "bottom": null,
            "display": null,
            "flex": null,
            "flex_flow": null,
            "grid_area": null,
            "grid_auto_columns": null,
            "grid_auto_flow": null,
            "grid_auto_rows": null,
            "grid_column": null,
            "grid_gap": null,
            "grid_row": null,
            "grid_template_areas": null,
            "grid_template_columns": null,
            "grid_template_rows": null,
            "height": null,
            "justify_content": null,
            "justify_items": null,
            "left": null,
            "margin": null,
            "max_height": null,
            "max_width": null,
            "min_height": null,
            "min_width": null,
            "object_fit": null,
            "object_position": null,
            "order": null,
            "overflow": null,
            "overflow_x": null,
            "overflow_y": null,
            "padding": null,
            "right": null,
            "top": null,
            "visibility": null,
            "width": null
          }
        },
        "5f5547a1b17e485abb9f1eb5139d45ab": {
          "model_module": "@jupyter-widgets/base",
          "model_name": "LayoutModel",
          "model_module_version": "1.2.0",
          "state": {
            "_model_module": "@jupyter-widgets/base",
            "_model_module_version": "1.2.0",
            "_model_name": "LayoutModel",
            "_view_count": null,
            "_view_module": "@jupyter-widgets/base",
            "_view_module_version": "1.2.0",
            "_view_name": "LayoutView",
            "align_content": null,
            "align_items": null,
            "align_self": null,
            "border": null,
            "bottom": null,
            "display": null,
            "flex": null,
            "flex_flow": null,
            "grid_area": null,
            "grid_auto_columns": null,
            "grid_auto_flow": null,
            "grid_auto_rows": null,
            "grid_column": null,
            "grid_gap": null,
            "grid_row": null,
            "grid_template_areas": null,
            "grid_template_columns": null,
            "grid_template_rows": null,
            "height": null,
            "justify_content": null,
            "justify_items": null,
            "left": null,
            "margin": null,
            "max_height": null,
            "max_width": null,
            "min_height": null,
            "min_width": null,
            "object_fit": null,
            "object_position": null,
            "order": null,
            "overflow": null,
            "overflow_x": null,
            "overflow_y": null,
            "padding": null,
            "right": null,
            "top": null,
            "visibility": null,
            "width": null
          }
        },
        "ca5ec9d0535d439d875aa0fac53a098b": {
          "model_module": "@jupyter-widgets/controls",
          "model_name": "DescriptionStyleModel",
          "model_module_version": "1.5.0",
          "state": {
            "_model_module": "@jupyter-widgets/controls",
            "_model_module_version": "1.5.0",
            "_model_name": "DescriptionStyleModel",
            "_view_count": null,
            "_view_module": "@jupyter-widgets/base",
            "_view_module_version": "1.2.0",
            "_view_name": "StyleView",
            "description_width": ""
          }
        },
        "63e710673557409492fced4b611b47f2": {
          "model_module": "@jupyter-widgets/base",
          "model_name": "LayoutModel",
          "model_module_version": "1.2.0",
          "state": {
            "_model_module": "@jupyter-widgets/base",
            "_model_module_version": "1.2.0",
            "_model_name": "LayoutModel",
            "_view_count": null,
            "_view_module": "@jupyter-widgets/base",
            "_view_module_version": "1.2.0",
            "_view_name": "LayoutView",
            "align_content": null,
            "align_items": null,
            "align_self": null,
            "border": null,
            "bottom": null,
            "display": null,
            "flex": null,
            "flex_flow": null,
            "grid_area": null,
            "grid_auto_columns": null,
            "grid_auto_flow": null,
            "grid_auto_rows": null,
            "grid_column": null,
            "grid_gap": null,
            "grid_row": null,
            "grid_template_areas": null,
            "grid_template_columns": null,
            "grid_template_rows": null,
            "height": null,
            "justify_content": null,
            "justify_items": null,
            "left": null,
            "margin": null,
            "max_height": null,
            "max_width": null,
            "min_height": null,
            "min_width": null,
            "object_fit": null,
            "object_position": null,
            "order": null,
            "overflow": null,
            "overflow_x": null,
            "overflow_y": null,
            "padding": null,
            "right": null,
            "top": null,
            "visibility": null,
            "width": null
          }
        },
        "5f5629cdd3f2432a940d2227bdab94a2": {
          "model_module": "@jupyter-widgets/controls",
          "model_name": "ProgressStyleModel",
          "model_module_version": "1.5.0",
          "state": {
            "_model_module": "@jupyter-widgets/controls",
            "_model_module_version": "1.5.0",
            "_model_name": "ProgressStyleModel",
            "_view_count": null,
            "_view_module": "@jupyter-widgets/base",
            "_view_module_version": "1.2.0",
            "_view_name": "StyleView",
            "bar_color": null,
            "description_width": ""
          }
        },
        "10a0d8477e9940c5b4a339a574759029": {
          "model_module": "@jupyter-widgets/base",
          "model_name": "LayoutModel",
          "model_module_version": "1.2.0",
          "state": {
            "_model_module": "@jupyter-widgets/base",
            "_model_module_version": "1.2.0",
            "_model_name": "LayoutModel",
            "_view_count": null,
            "_view_module": "@jupyter-widgets/base",
            "_view_module_version": "1.2.0",
            "_view_name": "LayoutView",
            "align_content": null,
            "align_items": null,
            "align_self": null,
            "border": null,
            "bottom": null,
            "display": null,
            "flex": null,
            "flex_flow": null,
            "grid_area": null,
            "grid_auto_columns": null,
            "grid_auto_flow": null,
            "grid_auto_rows": null,
            "grid_column": null,
            "grid_gap": null,
            "grid_row": null,
            "grid_template_areas": null,
            "grid_template_columns": null,
            "grid_template_rows": null,
            "height": null,
            "justify_content": null,
            "justify_items": null,
            "left": null,
            "margin": null,
            "max_height": null,
            "max_width": null,
            "min_height": null,
            "min_width": null,
            "object_fit": null,
            "object_position": null,
            "order": null,
            "overflow": null,
            "overflow_x": null,
            "overflow_y": null,
            "padding": null,
            "right": null,
            "top": null,
            "visibility": null,
            "width": null
          }
        },
        "3762cd4720a64e27839308a865ff48d2": {
          "model_module": "@jupyter-widgets/controls",
          "model_name": "DescriptionStyleModel",
          "model_module_version": "1.5.0",
          "state": {
            "_model_module": "@jupyter-widgets/controls",
            "_model_module_version": "1.5.0",
            "_model_name": "DescriptionStyleModel",
            "_view_count": null,
            "_view_module": "@jupyter-widgets/base",
            "_view_module_version": "1.2.0",
            "_view_name": "StyleView",
            "description_width": ""
          }
        },
        "1086c315b9cc4ed4884f18d14472abc1": {
          "model_module": "@jupyter-widgets/controls",
          "model_name": "VBoxModel",
          "model_module_version": "1.5.0",
          "state": {
            "_dom_classes": [],
            "_model_module": "@jupyter-widgets/controls",
            "_model_module_version": "1.5.0",
            "_model_name": "VBoxModel",
            "_view_count": null,
            "_view_module": "@jupyter-widgets/controls",
            "_view_module_version": "1.5.0",
            "_view_name": "VBoxView",
            "box_style": "",
            "children": [],
            "layout": "IPY_MODEL_42e1c9a3eccc4c459701f3e6acfb7c4a"
          }
        },
        "62e9ea7cd19249be99d4297b210fc405": {
          "model_module": "@jupyter-widgets/controls",
          "model_name": "HTMLModel",
          "model_module_version": "1.5.0",
          "state": {
            "_dom_classes": [],
            "_model_module": "@jupyter-widgets/controls",
            "_model_module_version": "1.5.0",
            "_model_name": "HTMLModel",
            "_view_count": null,
            "_view_module": "@jupyter-widgets/controls",
            "_view_module_version": "1.5.0",
            "_view_name": "HTMLView",
            "description": "",
            "description_tooltip": null,
            "layout": "IPY_MODEL_24c9961fe0c34b8797de1a74605a73c2",
            "placeholder": "​",
            "style": "IPY_MODEL_dab3c1b047f3405586744a1193b69cd1",
            "value": "<center> <img\nsrc=https://huggingface.co/front/assets/huggingface_logo-noborder.svg\nalt='Hugging Face'> <br> Copy a token from <a\nhref=\"https://huggingface.co/settings/tokens\" target=\"_blank\">your Hugging Face\ntokens page</a> and paste it below. <br> Immediately click login after copying\nyour token or it might be stored in plain text in this notebook file. </center>"
          }
        },
        "31794b0fc93a4637b4eda2dc2926163e": {
          "model_module": "@jupyter-widgets/controls",
          "model_name": "PasswordModel",
          "model_module_version": "1.5.0",
          "state": {
            "_dom_classes": [],
            "_model_module": "@jupyter-widgets/controls",
            "_model_module_version": "1.5.0",
            "_model_name": "PasswordModel",
            "_view_count": null,
            "_view_module": "@jupyter-widgets/controls",
            "_view_module_version": "1.5.0",
            "_view_name": "PasswordView",
            "continuous_update": true,
            "description": "Token:",
            "description_tooltip": null,
            "disabled": false,
            "layout": "IPY_MODEL_429e6196972b47a4b8eb552e89b5f13a",
            "placeholder": "​",
            "style": "IPY_MODEL_64abef2f2db141a79fd1edfea7bffc77",
            "value": ""
          }
        },
        "9ce25a4dd98545a488e4bf1d0fcf0e76": {
          "model_module": "@jupyter-widgets/controls",
          "model_name": "CheckboxModel",
          "model_module_version": "1.5.0",
          "state": {
            "_dom_classes": [],
            "_model_module": "@jupyter-widgets/controls",
            "_model_module_version": "1.5.0",
            "_model_name": "CheckboxModel",
            "_view_count": null,
            "_view_module": "@jupyter-widgets/controls",
            "_view_module_version": "1.5.0",
            "_view_name": "CheckboxView",
            "description": "Add token as git credential?",
            "description_tooltip": null,
            "disabled": false,
            "indent": true,
            "layout": "IPY_MODEL_bbe3920785354829b9bc4bf718cbb8df",
            "style": "IPY_MODEL_694c9a97dce0421ebf789de90a7cb383",
            "value": true
          }
        },
        "f8211ac177ee46b98fc37d489d575f50": {
          "model_module": "@jupyter-widgets/controls",
          "model_name": "ButtonModel",
          "model_module_version": "1.5.0",
          "state": {
            "_dom_classes": [],
            "_model_module": "@jupyter-widgets/controls",
            "_model_module_version": "1.5.0",
            "_model_name": "ButtonModel",
            "_view_count": null,
            "_view_module": "@jupyter-widgets/controls",
            "_view_module_version": "1.5.0",
            "_view_name": "ButtonView",
            "button_style": "",
            "description": "Login",
            "disabled": false,
            "icon": "",
            "layout": "IPY_MODEL_e3642cd3bd5c47e9b4ee2da10cddc4f9",
            "style": "IPY_MODEL_762c4cf688244a09ae776221275c673e",
            "tooltip": ""
          }
        },
        "e1b40872c9894c409c2d57c8695db527": {
          "model_module": "@jupyter-widgets/controls",
          "model_name": "HTMLModel",
          "model_module_version": "1.5.0",
          "state": {
            "_dom_classes": [],
            "_model_module": "@jupyter-widgets/controls",
            "_model_module_version": "1.5.0",
            "_model_name": "HTMLModel",
            "_view_count": null,
            "_view_module": "@jupyter-widgets/controls",
            "_view_module_version": "1.5.0",
            "_view_name": "HTMLView",
            "description": "",
            "description_tooltip": null,
            "layout": "IPY_MODEL_94b4b2fe5de84be08766681d119e6b61",
            "placeholder": "​",
            "style": "IPY_MODEL_b89cc93db45d48f28c351cc0b3e64b6b",
            "value": "\n<b>Pro Tip:</b> If you don't already have one, you can create a dedicated\n'notebooks' token with 'write' access, that you can then easily reuse for all\nnotebooks. </center>"
          }
        },
        "42e1c9a3eccc4c459701f3e6acfb7c4a": {
          "model_module": "@jupyter-widgets/base",
          "model_name": "LayoutModel",
          "model_module_version": "1.2.0",
          "state": {
            "_model_module": "@jupyter-widgets/base",
            "_model_module_version": "1.2.0",
            "_model_name": "LayoutModel",
            "_view_count": null,
            "_view_module": "@jupyter-widgets/base",
            "_view_module_version": "1.2.0",
            "_view_name": "LayoutView",
            "align_content": null,
            "align_items": "center",
            "align_self": null,
            "border": null,
            "bottom": null,
            "display": "flex",
            "flex": null,
            "flex_flow": "column",
            "grid_area": null,
            "grid_auto_columns": null,
            "grid_auto_flow": null,
            "grid_auto_rows": null,
            "grid_column": null,
            "grid_gap": null,
            "grid_row": null,
            "grid_template_areas": null,
            "grid_template_columns": null,
            "grid_template_rows": null,
            "height": null,
            "justify_content": null,
            "justify_items": null,
            "left": null,
            "margin": null,
            "max_height": null,
            "max_width": null,
            "min_height": null,
            "min_width": null,
            "object_fit": null,
            "object_position": null,
            "order": null,
            "overflow": null,
            "overflow_x": null,
            "overflow_y": null,
            "padding": null,
            "right": null,
            "top": null,
            "visibility": null,
            "width": "50%"
          }
        },
        "24c9961fe0c34b8797de1a74605a73c2": {
          "model_module": "@jupyter-widgets/base",
          "model_name": "LayoutModel",
          "model_module_version": "1.2.0",
          "state": {
            "_model_module": "@jupyter-widgets/base",
            "_model_module_version": "1.2.0",
            "_model_name": "LayoutModel",
            "_view_count": null,
            "_view_module": "@jupyter-widgets/base",
            "_view_module_version": "1.2.0",
            "_view_name": "LayoutView",
            "align_content": null,
            "align_items": null,
            "align_self": null,
            "border": null,
            "bottom": null,
            "display": null,
            "flex": null,
            "flex_flow": null,
            "grid_area": null,
            "grid_auto_columns": null,
            "grid_auto_flow": null,
            "grid_auto_rows": null,
            "grid_column": null,
            "grid_gap": null,
            "grid_row": null,
            "grid_template_areas": null,
            "grid_template_columns": null,
            "grid_template_rows": null,
            "height": null,
            "justify_content": null,
            "justify_items": null,
            "left": null,
            "margin": null,
            "max_height": null,
            "max_width": null,
            "min_height": null,
            "min_width": null,
            "object_fit": null,
            "object_position": null,
            "order": null,
            "overflow": null,
            "overflow_x": null,
            "overflow_y": null,
            "padding": null,
            "right": null,
            "top": null,
            "visibility": null,
            "width": null
          }
        },
        "dab3c1b047f3405586744a1193b69cd1": {
          "model_module": "@jupyter-widgets/controls",
          "model_name": "DescriptionStyleModel",
          "model_module_version": "1.5.0",
          "state": {
            "_model_module": "@jupyter-widgets/controls",
            "_model_module_version": "1.5.0",
            "_model_name": "DescriptionStyleModel",
            "_view_count": null,
            "_view_module": "@jupyter-widgets/base",
            "_view_module_version": "1.2.0",
            "_view_name": "StyleView",
            "description_width": ""
          }
        },
        "429e6196972b47a4b8eb552e89b5f13a": {
          "model_module": "@jupyter-widgets/base",
          "model_name": "LayoutModel",
          "model_module_version": "1.2.0",
          "state": {
            "_model_module": "@jupyter-widgets/base",
            "_model_module_version": "1.2.0",
            "_model_name": "LayoutModel",
            "_view_count": null,
            "_view_module": "@jupyter-widgets/base",
            "_view_module_version": "1.2.0",
            "_view_name": "LayoutView",
            "align_content": null,
            "align_items": null,
            "align_self": null,
            "border": null,
            "bottom": null,
            "display": null,
            "flex": null,
            "flex_flow": null,
            "grid_area": null,
            "grid_auto_columns": null,
            "grid_auto_flow": null,
            "grid_auto_rows": null,
            "grid_column": null,
            "grid_gap": null,
            "grid_row": null,
            "grid_template_areas": null,
            "grid_template_columns": null,
            "grid_template_rows": null,
            "height": null,
            "justify_content": null,
            "justify_items": null,
            "left": null,
            "margin": null,
            "max_height": null,
            "max_width": null,
            "min_height": null,
            "min_width": null,
            "object_fit": null,
            "object_position": null,
            "order": null,
            "overflow": null,
            "overflow_x": null,
            "overflow_y": null,
            "padding": null,
            "right": null,
            "top": null,
            "visibility": null,
            "width": null
          }
        },
        "64abef2f2db141a79fd1edfea7bffc77": {
          "model_module": "@jupyter-widgets/controls",
          "model_name": "DescriptionStyleModel",
          "model_module_version": "1.5.0",
          "state": {
            "_model_module": "@jupyter-widgets/controls",
            "_model_module_version": "1.5.0",
            "_model_name": "DescriptionStyleModel",
            "_view_count": null,
            "_view_module": "@jupyter-widgets/base",
            "_view_module_version": "1.2.0",
            "_view_name": "StyleView",
            "description_width": ""
          }
        },
        "bbe3920785354829b9bc4bf718cbb8df": {
          "model_module": "@jupyter-widgets/base",
          "model_name": "LayoutModel",
          "model_module_version": "1.2.0",
          "state": {
            "_model_module": "@jupyter-widgets/base",
            "_model_module_version": "1.2.0",
            "_model_name": "LayoutModel",
            "_view_count": null,
            "_view_module": "@jupyter-widgets/base",
            "_view_module_version": "1.2.0",
            "_view_name": "LayoutView",
            "align_content": null,
            "align_items": null,
            "align_self": null,
            "border": null,
            "bottom": null,
            "display": null,
            "flex": null,
            "flex_flow": null,
            "grid_area": null,
            "grid_auto_columns": null,
            "grid_auto_flow": null,
            "grid_auto_rows": null,
            "grid_column": null,
            "grid_gap": null,
            "grid_row": null,
            "grid_template_areas": null,
            "grid_template_columns": null,
            "grid_template_rows": null,
            "height": null,
            "justify_content": null,
            "justify_items": null,
            "left": null,
            "margin": null,
            "max_height": null,
            "max_width": null,
            "min_height": null,
            "min_width": null,
            "object_fit": null,
            "object_position": null,
            "order": null,
            "overflow": null,
            "overflow_x": null,
            "overflow_y": null,
            "padding": null,
            "right": null,
            "top": null,
            "visibility": null,
            "width": null
          }
        },
        "694c9a97dce0421ebf789de90a7cb383": {
          "model_module": "@jupyter-widgets/controls",
          "model_name": "DescriptionStyleModel",
          "model_module_version": "1.5.0",
          "state": {
            "_model_module": "@jupyter-widgets/controls",
            "_model_module_version": "1.5.0",
            "_model_name": "DescriptionStyleModel",
            "_view_count": null,
            "_view_module": "@jupyter-widgets/base",
            "_view_module_version": "1.2.0",
            "_view_name": "StyleView",
            "description_width": ""
          }
        },
        "e3642cd3bd5c47e9b4ee2da10cddc4f9": {
          "model_module": "@jupyter-widgets/base",
          "model_name": "LayoutModel",
          "model_module_version": "1.2.0",
          "state": {
            "_model_module": "@jupyter-widgets/base",
            "_model_module_version": "1.2.0",
            "_model_name": "LayoutModel",
            "_view_count": null,
            "_view_module": "@jupyter-widgets/base",
            "_view_module_version": "1.2.0",
            "_view_name": "LayoutView",
            "align_content": null,
            "align_items": null,
            "align_self": null,
            "border": null,
            "bottom": null,
            "display": null,
            "flex": null,
            "flex_flow": null,
            "grid_area": null,
            "grid_auto_columns": null,
            "grid_auto_flow": null,
            "grid_auto_rows": null,
            "grid_column": null,
            "grid_gap": null,
            "grid_row": null,
            "grid_template_areas": null,
            "grid_template_columns": null,
            "grid_template_rows": null,
            "height": null,
            "justify_content": null,
            "justify_items": null,
            "left": null,
            "margin": null,
            "max_height": null,
            "max_width": null,
            "min_height": null,
            "min_width": null,
            "object_fit": null,
            "object_position": null,
            "order": null,
            "overflow": null,
            "overflow_x": null,
            "overflow_y": null,
            "padding": null,
            "right": null,
            "top": null,
            "visibility": null,
            "width": null
          }
        },
        "762c4cf688244a09ae776221275c673e": {
          "model_module": "@jupyter-widgets/controls",
          "model_name": "ButtonStyleModel",
          "model_module_version": "1.5.0",
          "state": {
            "_model_module": "@jupyter-widgets/controls",
            "_model_module_version": "1.5.0",
            "_model_name": "ButtonStyleModel",
            "_view_count": null,
            "_view_module": "@jupyter-widgets/base",
            "_view_module_version": "1.2.0",
            "_view_name": "StyleView",
            "button_color": null,
            "font_weight": ""
          }
        },
        "94b4b2fe5de84be08766681d119e6b61": {
          "model_module": "@jupyter-widgets/base",
          "model_name": "LayoutModel",
          "model_module_version": "1.2.0",
          "state": {
            "_model_module": "@jupyter-widgets/base",
            "_model_module_version": "1.2.0",
            "_model_name": "LayoutModel",
            "_view_count": null,
            "_view_module": "@jupyter-widgets/base",
            "_view_module_version": "1.2.0",
            "_view_name": "LayoutView",
            "align_content": null,
            "align_items": null,
            "align_self": null,
            "border": null,
            "bottom": null,
            "display": null,
            "flex": null,
            "flex_flow": null,
            "grid_area": null,
            "grid_auto_columns": null,
            "grid_auto_flow": null,
            "grid_auto_rows": null,
            "grid_column": null,
            "grid_gap": null,
            "grid_row": null,
            "grid_template_areas": null,
            "grid_template_columns": null,
            "grid_template_rows": null,
            "height": null,
            "justify_content": null,
            "justify_items": null,
            "left": null,
            "margin": null,
            "max_height": null,
            "max_width": null,
            "min_height": null,
            "min_width": null,
            "object_fit": null,
            "object_position": null,
            "order": null,
            "overflow": null,
            "overflow_x": null,
            "overflow_y": null,
            "padding": null,
            "right": null,
            "top": null,
            "visibility": null,
            "width": null
          }
        },
        "b89cc93db45d48f28c351cc0b3e64b6b": {
          "model_module": "@jupyter-widgets/controls",
          "model_name": "DescriptionStyleModel",
          "model_module_version": "1.5.0",
          "state": {
            "_model_module": "@jupyter-widgets/controls",
            "_model_module_version": "1.5.0",
            "_model_name": "DescriptionStyleModel",
            "_view_count": null,
            "_view_module": "@jupyter-widgets/base",
            "_view_module_version": "1.2.0",
            "_view_name": "StyleView",
            "description_width": ""
          }
        },
        "f8d79bd41deb4529a9044e7bbf451005": {
          "model_module": "@jupyter-widgets/controls",
          "model_name": "LabelModel",
          "model_module_version": "1.5.0",
          "state": {
            "_dom_classes": [],
            "_model_module": "@jupyter-widgets/controls",
            "_model_module_version": "1.5.0",
            "_model_name": "LabelModel",
            "_view_count": null,
            "_view_module": "@jupyter-widgets/controls",
            "_view_module_version": "1.5.0",
            "_view_name": "LabelView",
            "description": "",
            "description_tooltip": null,
            "layout": "IPY_MODEL_61650c043a1347f58489ddae51ba1180",
            "placeholder": "​",
            "style": "IPY_MODEL_1ccfdd66de1a40feb7b59613b5812711",
            "value": "Connecting..."
          }
        },
        "61650c043a1347f58489ddae51ba1180": {
          "model_module": "@jupyter-widgets/base",
          "model_name": "LayoutModel",
          "model_module_version": "1.2.0",
          "state": {
            "_model_module": "@jupyter-widgets/base",
            "_model_module_version": "1.2.0",
            "_model_name": "LayoutModel",
            "_view_count": null,
            "_view_module": "@jupyter-widgets/base",
            "_view_module_version": "1.2.0",
            "_view_name": "LayoutView",
            "align_content": null,
            "align_items": null,
            "align_self": null,
            "border": null,
            "bottom": null,
            "display": null,
            "flex": null,
            "flex_flow": null,
            "grid_area": null,
            "grid_auto_columns": null,
            "grid_auto_flow": null,
            "grid_auto_rows": null,
            "grid_column": null,
            "grid_gap": null,
            "grid_row": null,
            "grid_template_areas": null,
            "grid_template_columns": null,
            "grid_template_rows": null,
            "height": null,
            "justify_content": null,
            "justify_items": null,
            "left": null,
            "margin": null,
            "max_height": null,
            "max_width": null,
            "min_height": null,
            "min_width": null,
            "object_fit": null,
            "object_position": null,
            "order": null,
            "overflow": null,
            "overflow_x": null,
            "overflow_y": null,
            "padding": null,
            "right": null,
            "top": null,
            "visibility": null,
            "width": null
          }
        },
        "1ccfdd66de1a40feb7b59613b5812711": {
          "model_module": "@jupyter-widgets/controls",
          "model_name": "DescriptionStyleModel",
          "model_module_version": "1.5.0",
          "state": {
            "_model_module": "@jupyter-widgets/controls",
            "_model_module_version": "1.5.0",
            "_model_name": "DescriptionStyleModel",
            "_view_count": null,
            "_view_module": "@jupyter-widgets/base",
            "_view_module_version": "1.2.0",
            "_view_name": "StyleView",
            "description_width": ""
          }
        },
        "b14bb6bcb0974a92a932904c31585aca": {
          "model_module": "@jupyter-widgets/controls",
          "model_name": "HBoxModel",
          "model_module_version": "1.5.0",
          "state": {
            "_dom_classes": [],
            "_model_module": "@jupyter-widgets/controls",
            "_model_module_version": "1.5.0",
            "_model_name": "HBoxModel",
            "_view_count": null,
            "_view_module": "@jupyter-widgets/controls",
            "_view_module_version": "1.5.0",
            "_view_name": "HBoxView",
            "box_style": "",
            "children": [
              "IPY_MODEL_9c1d05b0c42b4589b8b7fc4a7f56527d",
              "IPY_MODEL_6f969d274ca84e50ba7a188ac1854caf",
              "IPY_MODEL_6a8a1616b3cd4c5483b8295e151678d9"
            ],
            "layout": "IPY_MODEL_126b10da65764f91ba68be6c89b2343d"
          }
        },
        "9c1d05b0c42b4589b8b7fc4a7f56527d": {
          "model_module": "@jupyter-widgets/controls",
          "model_name": "HTMLModel",
          "model_module_version": "1.5.0",
          "state": {
            "_dom_classes": [],
            "_model_module": "@jupyter-widgets/controls",
            "_model_module_version": "1.5.0",
            "_model_name": "HTMLModel",
            "_view_count": null,
            "_view_module": "@jupyter-widgets/controls",
            "_view_module_version": "1.5.0",
            "_view_name": "HTMLView",
            "description": "",
            "description_tooltip": null,
            "layout": "IPY_MODEL_d7b2042b4abe496e898cb1710b699628",
            "placeholder": "​",
            "style": "IPY_MODEL_6d7600575af543eabee6ae6e0fd670a7",
            "value": "config.json: 100%"
          }
        },
        "6f969d274ca84e50ba7a188ac1854caf": {
          "model_module": "@jupyter-widgets/controls",
          "model_name": "FloatProgressModel",
          "model_module_version": "1.5.0",
          "state": {
            "_dom_classes": [],
            "_model_module": "@jupyter-widgets/controls",
            "_model_module_version": "1.5.0",
            "_model_name": "FloatProgressModel",
            "_view_count": null,
            "_view_module": "@jupyter-widgets/controls",
            "_view_module_version": "1.5.0",
            "_view_name": "ProgressView",
            "bar_style": "success",
            "description": "",
            "description_tooltip": null,
            "layout": "IPY_MODEL_9787cc07b5a44ef495bf93f6909a0ccd",
            "max": 898,
            "min": 0,
            "orientation": "horizontal",
            "style": "IPY_MODEL_048ab28d3d3e43ba99c4cedf5da26289",
            "value": 898
          }
        },
        "6a8a1616b3cd4c5483b8295e151678d9": {
          "model_module": "@jupyter-widgets/controls",
          "model_name": "HTMLModel",
          "model_module_version": "1.5.0",
          "state": {
            "_dom_classes": [],
            "_model_module": "@jupyter-widgets/controls",
            "_model_module_version": "1.5.0",
            "_model_name": "HTMLModel",
            "_view_count": null,
            "_view_module": "@jupyter-widgets/controls",
            "_view_module_version": "1.5.0",
            "_view_name": "HTMLView",
            "description": "",
            "description_tooltip": null,
            "layout": "IPY_MODEL_ef66c62076c24aebb30585253150afc6",
            "placeholder": "​",
            "style": "IPY_MODEL_ef81af64af924538bd85137fc53eb490",
            "value": " 898/898 [00:00&lt;00:00, 56.3kB/s]"
          }
        },
        "126b10da65764f91ba68be6c89b2343d": {
          "model_module": "@jupyter-widgets/base",
          "model_name": "LayoutModel",
          "model_module_version": "1.2.0",
          "state": {
            "_model_module": "@jupyter-widgets/base",
            "_model_module_version": "1.2.0",
            "_model_name": "LayoutModel",
            "_view_count": null,
            "_view_module": "@jupyter-widgets/base",
            "_view_module_version": "1.2.0",
            "_view_name": "LayoutView",
            "align_content": null,
            "align_items": null,
            "align_self": null,
            "border": null,
            "bottom": null,
            "display": null,
            "flex": null,
            "flex_flow": null,
            "grid_area": null,
            "grid_auto_columns": null,
            "grid_auto_flow": null,
            "grid_auto_rows": null,
            "grid_column": null,
            "grid_gap": null,
            "grid_row": null,
            "grid_template_areas": null,
            "grid_template_columns": null,
            "grid_template_rows": null,
            "height": null,
            "justify_content": null,
            "justify_items": null,
            "left": null,
            "margin": null,
            "max_height": null,
            "max_width": null,
            "min_height": null,
            "min_width": null,
            "object_fit": null,
            "object_position": null,
            "order": null,
            "overflow": null,
            "overflow_x": null,
            "overflow_y": null,
            "padding": null,
            "right": null,
            "top": null,
            "visibility": null,
            "width": null
          }
        },
        "d7b2042b4abe496e898cb1710b699628": {
          "model_module": "@jupyter-widgets/base",
          "model_name": "LayoutModel",
          "model_module_version": "1.2.0",
          "state": {
            "_model_module": "@jupyter-widgets/base",
            "_model_module_version": "1.2.0",
            "_model_name": "LayoutModel",
            "_view_count": null,
            "_view_module": "@jupyter-widgets/base",
            "_view_module_version": "1.2.0",
            "_view_name": "LayoutView",
            "align_content": null,
            "align_items": null,
            "align_self": null,
            "border": null,
            "bottom": null,
            "display": null,
            "flex": null,
            "flex_flow": null,
            "grid_area": null,
            "grid_auto_columns": null,
            "grid_auto_flow": null,
            "grid_auto_rows": null,
            "grid_column": null,
            "grid_gap": null,
            "grid_row": null,
            "grid_template_areas": null,
            "grid_template_columns": null,
            "grid_template_rows": null,
            "height": null,
            "justify_content": null,
            "justify_items": null,
            "left": null,
            "margin": null,
            "max_height": null,
            "max_width": null,
            "min_height": null,
            "min_width": null,
            "object_fit": null,
            "object_position": null,
            "order": null,
            "overflow": null,
            "overflow_x": null,
            "overflow_y": null,
            "padding": null,
            "right": null,
            "top": null,
            "visibility": null,
            "width": null
          }
        },
        "6d7600575af543eabee6ae6e0fd670a7": {
          "model_module": "@jupyter-widgets/controls",
          "model_name": "DescriptionStyleModel",
          "model_module_version": "1.5.0",
          "state": {
            "_model_module": "@jupyter-widgets/controls",
            "_model_module_version": "1.5.0",
            "_model_name": "DescriptionStyleModel",
            "_view_count": null,
            "_view_module": "@jupyter-widgets/base",
            "_view_module_version": "1.2.0",
            "_view_name": "StyleView",
            "description_width": ""
          }
        },
        "9787cc07b5a44ef495bf93f6909a0ccd": {
          "model_module": "@jupyter-widgets/base",
          "model_name": "LayoutModel",
          "model_module_version": "1.2.0",
          "state": {
            "_model_module": "@jupyter-widgets/base",
            "_model_module_version": "1.2.0",
            "_model_name": "LayoutModel",
            "_view_count": null,
            "_view_module": "@jupyter-widgets/base",
            "_view_module_version": "1.2.0",
            "_view_name": "LayoutView",
            "align_content": null,
            "align_items": null,
            "align_self": null,
            "border": null,
            "bottom": null,
            "display": null,
            "flex": null,
            "flex_flow": null,
            "grid_area": null,
            "grid_auto_columns": null,
            "grid_auto_flow": null,
            "grid_auto_rows": null,
            "grid_column": null,
            "grid_gap": null,
            "grid_row": null,
            "grid_template_areas": null,
            "grid_template_columns": null,
            "grid_template_rows": null,
            "height": null,
            "justify_content": null,
            "justify_items": null,
            "left": null,
            "margin": null,
            "max_height": null,
            "max_width": null,
            "min_height": null,
            "min_width": null,
            "object_fit": null,
            "object_position": null,
            "order": null,
            "overflow": null,
            "overflow_x": null,
            "overflow_y": null,
            "padding": null,
            "right": null,
            "top": null,
            "visibility": null,
            "width": null
          }
        },
        "048ab28d3d3e43ba99c4cedf5da26289": {
          "model_module": "@jupyter-widgets/controls",
          "model_name": "ProgressStyleModel",
          "model_module_version": "1.5.0",
          "state": {
            "_model_module": "@jupyter-widgets/controls",
            "_model_module_version": "1.5.0",
            "_model_name": "ProgressStyleModel",
            "_view_count": null,
            "_view_module": "@jupyter-widgets/base",
            "_view_module_version": "1.2.0",
            "_view_name": "StyleView",
            "bar_color": null,
            "description_width": ""
          }
        },
        "ef66c62076c24aebb30585253150afc6": {
          "model_module": "@jupyter-widgets/base",
          "model_name": "LayoutModel",
          "model_module_version": "1.2.0",
          "state": {
            "_model_module": "@jupyter-widgets/base",
            "_model_module_version": "1.2.0",
            "_model_name": "LayoutModel",
            "_view_count": null,
            "_view_module": "@jupyter-widgets/base",
            "_view_module_version": "1.2.0",
            "_view_name": "LayoutView",
            "align_content": null,
            "align_items": null,
            "align_self": null,
            "border": null,
            "bottom": null,
            "display": null,
            "flex": null,
            "flex_flow": null,
            "grid_area": null,
            "grid_auto_columns": null,
            "grid_auto_flow": null,
            "grid_auto_rows": null,
            "grid_column": null,
            "grid_gap": null,
            "grid_row": null,
            "grid_template_areas": null,
            "grid_template_columns": null,
            "grid_template_rows": null,
            "height": null,
            "justify_content": null,
            "justify_items": null,
            "left": null,
            "margin": null,
            "max_height": null,
            "max_width": null,
            "min_height": null,
            "min_width": null,
            "object_fit": null,
            "object_position": null,
            "order": null,
            "overflow": null,
            "overflow_x": null,
            "overflow_y": null,
            "padding": null,
            "right": null,
            "top": null,
            "visibility": null,
            "width": null
          }
        },
        "ef81af64af924538bd85137fc53eb490": {
          "model_module": "@jupyter-widgets/controls",
          "model_name": "DescriptionStyleModel",
          "model_module_version": "1.5.0",
          "state": {
            "_model_module": "@jupyter-widgets/controls",
            "_model_module_version": "1.5.0",
            "_model_name": "DescriptionStyleModel",
            "_view_count": null,
            "_view_module": "@jupyter-widgets/base",
            "_view_module_version": "1.2.0",
            "_view_name": "StyleView",
            "description_width": ""
          }
        },
        "316feef6740e4d8192853c1586620fe4": {
          "model_module": "@jupyter-widgets/controls",
          "model_name": "HBoxModel",
          "model_module_version": "1.5.0",
          "state": {
            "_dom_classes": [],
            "_model_module": "@jupyter-widgets/controls",
            "_model_module_version": "1.5.0",
            "_model_name": "HBoxModel",
            "_view_count": null,
            "_view_module": "@jupyter-widgets/controls",
            "_view_module_version": "1.5.0",
            "_view_name": "HBoxView",
            "box_style": "",
            "children": [
              "IPY_MODEL_9a07cbf840304b878702428a6b59bd9b",
              "IPY_MODEL_0aaa6d3699504e7295f28c8488597670",
              "IPY_MODEL_be555e3f0ccc4366be0dd2f079b9db4e"
            ],
            "layout": "IPY_MODEL_1dfb06818c49447494206be0782c0f5d"
          }
        },
        "9a07cbf840304b878702428a6b59bd9b": {
          "model_module": "@jupyter-widgets/controls",
          "model_name": "HTMLModel",
          "model_module_version": "1.5.0",
          "state": {
            "_dom_classes": [],
            "_model_module": "@jupyter-widgets/controls",
            "_model_module_version": "1.5.0",
            "_model_name": "HTMLModel",
            "_view_count": null,
            "_view_module": "@jupyter-widgets/controls",
            "_view_module_version": "1.5.0",
            "_view_name": "HTMLView",
            "description": "",
            "description_tooltip": null,
            "layout": "IPY_MODEL_55b94a6ccf0c40138a22fa948da3a5f9",
            "placeholder": "​",
            "style": "IPY_MODEL_161fb96ef625447986b2f107d752db7e",
            "value": "model.safetensors: 100%"
          }
        },
        "0aaa6d3699504e7295f28c8488597670": {
          "model_module": "@jupyter-widgets/controls",
          "model_name": "FloatProgressModel",
          "model_module_version": "1.5.0",
          "state": {
            "_dom_classes": [],
            "_model_module": "@jupyter-widgets/controls",
            "_model_module_version": "1.5.0",
            "_model_name": "FloatProgressModel",
            "_view_count": null,
            "_view_module": "@jupyter-widgets/controls",
            "_view_module_version": "1.5.0",
            "_view_name": "ProgressView",
            "bar_style": "success",
            "description": "",
            "description_tooltip": null,
            "layout": "IPY_MODEL_4a25677764764f018371595c818ab10d",
            "max": 343239356,
            "min": 0,
            "orientation": "horizontal",
            "style": "IPY_MODEL_9c5cda2535b642b8b72817e3a1b09780",
            "value": 343239356
          }
        },
        "be555e3f0ccc4366be0dd2f079b9db4e": {
          "model_module": "@jupyter-widgets/controls",
          "model_name": "HTMLModel",
          "model_module_version": "1.5.0",
          "state": {
            "_dom_classes": [],
            "_model_module": "@jupyter-widgets/controls",
            "_model_module_version": "1.5.0",
            "_model_name": "HTMLModel",
            "_view_count": null,
            "_view_module": "@jupyter-widgets/controls",
            "_view_module_version": "1.5.0",
            "_view_name": "HTMLView",
            "description": "",
            "description_tooltip": null,
            "layout": "IPY_MODEL_25958ba83c254082b9728f0c3ec86b78",
            "placeholder": "​",
            "style": "IPY_MODEL_c517ef2b7e344bc5a66da89980732c58",
            "value": " 343M/343M [00:06&lt;00:00, 46.1MB/s]"
          }
        },
        "1dfb06818c49447494206be0782c0f5d": {
          "model_module": "@jupyter-widgets/base",
          "model_name": "LayoutModel",
          "model_module_version": "1.2.0",
          "state": {
            "_model_module": "@jupyter-widgets/base",
            "_model_module_version": "1.2.0",
            "_model_name": "LayoutModel",
            "_view_count": null,
            "_view_module": "@jupyter-widgets/base",
            "_view_module_version": "1.2.0",
            "_view_name": "LayoutView",
            "align_content": null,
            "align_items": null,
            "align_self": null,
            "border": null,
            "bottom": null,
            "display": null,
            "flex": null,
            "flex_flow": null,
            "grid_area": null,
            "grid_auto_columns": null,
            "grid_auto_flow": null,
            "grid_auto_rows": null,
            "grid_column": null,
            "grid_gap": null,
            "grid_row": null,
            "grid_template_areas": null,
            "grid_template_columns": null,
            "grid_template_rows": null,
            "height": null,
            "justify_content": null,
            "justify_items": null,
            "left": null,
            "margin": null,
            "max_height": null,
            "max_width": null,
            "min_height": null,
            "min_width": null,
            "object_fit": null,
            "object_position": null,
            "order": null,
            "overflow": null,
            "overflow_x": null,
            "overflow_y": null,
            "padding": null,
            "right": null,
            "top": null,
            "visibility": null,
            "width": null
          }
        },
        "55b94a6ccf0c40138a22fa948da3a5f9": {
          "model_module": "@jupyter-widgets/base",
          "model_name": "LayoutModel",
          "model_module_version": "1.2.0",
          "state": {
            "_model_module": "@jupyter-widgets/base",
            "_model_module_version": "1.2.0",
            "_model_name": "LayoutModel",
            "_view_count": null,
            "_view_module": "@jupyter-widgets/base",
            "_view_module_version": "1.2.0",
            "_view_name": "LayoutView",
            "align_content": null,
            "align_items": null,
            "align_self": null,
            "border": null,
            "bottom": null,
            "display": null,
            "flex": null,
            "flex_flow": null,
            "grid_area": null,
            "grid_auto_columns": null,
            "grid_auto_flow": null,
            "grid_auto_rows": null,
            "grid_column": null,
            "grid_gap": null,
            "grid_row": null,
            "grid_template_areas": null,
            "grid_template_columns": null,
            "grid_template_rows": null,
            "height": null,
            "justify_content": null,
            "justify_items": null,
            "left": null,
            "margin": null,
            "max_height": null,
            "max_width": null,
            "min_height": null,
            "min_width": null,
            "object_fit": null,
            "object_position": null,
            "order": null,
            "overflow": null,
            "overflow_x": null,
            "overflow_y": null,
            "padding": null,
            "right": null,
            "top": null,
            "visibility": null,
            "width": null
          }
        },
        "161fb96ef625447986b2f107d752db7e": {
          "model_module": "@jupyter-widgets/controls",
          "model_name": "DescriptionStyleModel",
          "model_module_version": "1.5.0",
          "state": {
            "_model_module": "@jupyter-widgets/controls",
            "_model_module_version": "1.5.0",
            "_model_name": "DescriptionStyleModel",
            "_view_count": null,
            "_view_module": "@jupyter-widgets/base",
            "_view_module_version": "1.2.0",
            "_view_name": "StyleView",
            "description_width": ""
          }
        },
        "4a25677764764f018371595c818ab10d": {
          "model_module": "@jupyter-widgets/base",
          "model_name": "LayoutModel",
          "model_module_version": "1.2.0",
          "state": {
            "_model_module": "@jupyter-widgets/base",
            "_model_module_version": "1.2.0",
            "_model_name": "LayoutModel",
            "_view_count": null,
            "_view_module": "@jupyter-widgets/base",
            "_view_module_version": "1.2.0",
            "_view_name": "LayoutView",
            "align_content": null,
            "align_items": null,
            "align_self": null,
            "border": null,
            "bottom": null,
            "display": null,
            "flex": null,
            "flex_flow": null,
            "grid_area": null,
            "grid_auto_columns": null,
            "grid_auto_flow": null,
            "grid_auto_rows": null,
            "grid_column": null,
            "grid_gap": null,
            "grid_row": null,
            "grid_template_areas": null,
            "grid_template_columns": null,
            "grid_template_rows": null,
            "height": null,
            "justify_content": null,
            "justify_items": null,
            "left": null,
            "margin": null,
            "max_height": null,
            "max_width": null,
            "min_height": null,
            "min_width": null,
            "object_fit": null,
            "object_position": null,
            "order": null,
            "overflow": null,
            "overflow_x": null,
            "overflow_y": null,
            "padding": null,
            "right": null,
            "top": null,
            "visibility": null,
            "width": null
          }
        },
        "9c5cda2535b642b8b72817e3a1b09780": {
          "model_module": "@jupyter-widgets/controls",
          "model_name": "ProgressStyleModel",
          "model_module_version": "1.5.0",
          "state": {
            "_model_module": "@jupyter-widgets/controls",
            "_model_module_version": "1.5.0",
            "_model_name": "ProgressStyleModel",
            "_view_count": null,
            "_view_module": "@jupyter-widgets/base",
            "_view_module_version": "1.2.0",
            "_view_name": "StyleView",
            "bar_color": null,
            "description_width": ""
          }
        },
        "25958ba83c254082b9728f0c3ec86b78": {
          "model_module": "@jupyter-widgets/base",
          "model_name": "LayoutModel",
          "model_module_version": "1.2.0",
          "state": {
            "_model_module": "@jupyter-widgets/base",
            "_model_module_version": "1.2.0",
            "_model_name": "LayoutModel",
            "_view_count": null,
            "_view_module": "@jupyter-widgets/base",
            "_view_module_version": "1.2.0",
            "_view_name": "LayoutView",
            "align_content": null,
            "align_items": null,
            "align_self": null,
            "border": null,
            "bottom": null,
            "display": null,
            "flex": null,
            "flex_flow": null,
            "grid_area": null,
            "grid_auto_columns": null,
            "grid_auto_flow": null,
            "grid_auto_rows": null,
            "grid_column": null,
            "grid_gap": null,
            "grid_row": null,
            "grid_template_areas": null,
            "grid_template_columns": null,
            "grid_template_rows": null,
            "height": null,
            "justify_content": null,
            "justify_items": null,
            "left": null,
            "margin": null,
            "max_height": null,
            "max_width": null,
            "min_height": null,
            "min_width": null,
            "object_fit": null,
            "object_position": null,
            "order": null,
            "overflow": null,
            "overflow_x": null,
            "overflow_y": null,
            "padding": null,
            "right": null,
            "top": null,
            "visibility": null,
            "width": null
          }
        },
        "c517ef2b7e344bc5a66da89980732c58": {
          "model_module": "@jupyter-widgets/controls",
          "model_name": "DescriptionStyleModel",
          "model_module_version": "1.5.0",
          "state": {
            "_model_module": "@jupyter-widgets/controls",
            "_model_module_version": "1.5.0",
            "_model_name": "DescriptionStyleModel",
            "_view_count": null,
            "_view_module": "@jupyter-widgets/base",
            "_view_module_version": "1.2.0",
            "_view_name": "StyleView",
            "description_width": ""
          }
        },
        "9fd4545099074bf69927d133b5c5cd5a": {
          "model_module": "@jupyter-widgets/controls",
          "model_name": "HBoxModel",
          "model_module_version": "1.5.0",
          "state": {
            "_dom_classes": [],
            "_model_module": "@jupyter-widgets/controls",
            "_model_module_version": "1.5.0",
            "_model_name": "HBoxModel",
            "_view_count": null,
            "_view_module": "@jupyter-widgets/controls",
            "_view_module_version": "1.5.0",
            "_view_name": "HBoxView",
            "box_style": "",
            "children": [
              "IPY_MODEL_9fdaeeeedb7e4edfbe8650421144df2e",
              "IPY_MODEL_636d727da0414ea3979c6e9d65056f27",
              "IPY_MODEL_ea74182c0a844d04a74fe538c5b24472"
            ],
            "layout": "IPY_MODEL_6b765ed8000e428f95db3631dc4ff94f"
          }
        },
        "9fdaeeeedb7e4edfbe8650421144df2e": {
          "model_module": "@jupyter-widgets/controls",
          "model_name": "HTMLModel",
          "model_module_version": "1.5.0",
          "state": {
            "_dom_classes": [],
            "_model_module": "@jupyter-widgets/controls",
            "_model_module_version": "1.5.0",
            "_model_name": "HTMLModel",
            "_view_count": null,
            "_view_module": "@jupyter-widgets/controls",
            "_view_module_version": "1.5.0",
            "_view_name": "HTMLView",
            "description": "",
            "description_tooltip": null,
            "layout": "IPY_MODEL_1dcc3792823844c3ab219223f410d8dd",
            "placeholder": "​",
            "style": "IPY_MODEL_b4f5f930a6424bc1afaf9d2d83a0b15d",
            "value": "preprocessor_config.json: 100%"
          }
        },
        "636d727da0414ea3979c6e9d65056f27": {
          "model_module": "@jupyter-widgets/controls",
          "model_name": "FloatProgressModel",
          "model_module_version": "1.5.0",
          "state": {
            "_dom_classes": [],
            "_model_module": "@jupyter-widgets/controls",
            "_model_module_version": "1.5.0",
            "_model_name": "FloatProgressModel",
            "_view_count": null,
            "_view_module": "@jupyter-widgets/controls",
            "_view_module_version": "1.5.0",
            "_view_name": "ProgressView",
            "bar_style": "success",
            "description": "",
            "description_tooltip": null,
            "layout": "IPY_MODEL_8a14ed7712ed43089d21b227a56e6f98",
            "max": 351,
            "min": 0,
            "orientation": "horizontal",
            "style": "IPY_MODEL_724907d67c3a4ef68f4b21335e531932",
            "value": 351
          }
        },
        "ea74182c0a844d04a74fe538c5b24472": {
          "model_module": "@jupyter-widgets/controls",
          "model_name": "HTMLModel",
          "model_module_version": "1.5.0",
          "state": {
            "_dom_classes": [],
            "_model_module": "@jupyter-widgets/controls",
            "_model_module_version": "1.5.0",
            "_model_name": "HTMLModel",
            "_view_count": null,
            "_view_module": "@jupyter-widgets/controls",
            "_view_module_version": "1.5.0",
            "_view_name": "HTMLView",
            "description": "",
            "description_tooltip": null,
            "layout": "IPY_MODEL_b36c8049b6d74f18992f1d1dd7f4b891",
            "placeholder": "​",
            "style": "IPY_MODEL_c13d100e9d654f298d77d7a7491a3807",
            "value": " 351/351 [00:00&lt;00:00, 38.7kB/s]"
          }
        },
        "6b765ed8000e428f95db3631dc4ff94f": {
          "model_module": "@jupyter-widgets/base",
          "model_name": "LayoutModel",
          "model_module_version": "1.2.0",
          "state": {
            "_model_module": "@jupyter-widgets/base",
            "_model_module_version": "1.2.0",
            "_model_name": "LayoutModel",
            "_view_count": null,
            "_view_module": "@jupyter-widgets/base",
            "_view_module_version": "1.2.0",
            "_view_name": "LayoutView",
            "align_content": null,
            "align_items": null,
            "align_self": null,
            "border": null,
            "bottom": null,
            "display": null,
            "flex": null,
            "flex_flow": null,
            "grid_area": null,
            "grid_auto_columns": null,
            "grid_auto_flow": null,
            "grid_auto_rows": null,
            "grid_column": null,
            "grid_gap": null,
            "grid_row": null,
            "grid_template_areas": null,
            "grid_template_columns": null,
            "grid_template_rows": null,
            "height": null,
            "justify_content": null,
            "justify_items": null,
            "left": null,
            "margin": null,
            "max_height": null,
            "max_width": null,
            "min_height": null,
            "min_width": null,
            "object_fit": null,
            "object_position": null,
            "order": null,
            "overflow": null,
            "overflow_x": null,
            "overflow_y": null,
            "padding": null,
            "right": null,
            "top": null,
            "visibility": null,
            "width": null
          }
        },
        "1dcc3792823844c3ab219223f410d8dd": {
          "model_module": "@jupyter-widgets/base",
          "model_name": "LayoutModel",
          "model_module_version": "1.2.0",
          "state": {
            "_model_module": "@jupyter-widgets/base",
            "_model_module_version": "1.2.0",
            "_model_name": "LayoutModel",
            "_view_count": null,
            "_view_module": "@jupyter-widgets/base",
            "_view_module_version": "1.2.0",
            "_view_name": "LayoutView",
            "align_content": null,
            "align_items": null,
            "align_self": null,
            "border": null,
            "bottom": null,
            "display": null,
            "flex": null,
            "flex_flow": null,
            "grid_area": null,
            "grid_auto_columns": null,
            "grid_auto_flow": null,
            "grid_auto_rows": null,
            "grid_column": null,
            "grid_gap": null,
            "grid_row": null,
            "grid_template_areas": null,
            "grid_template_columns": null,
            "grid_template_rows": null,
            "height": null,
            "justify_content": null,
            "justify_items": null,
            "left": null,
            "margin": null,
            "max_height": null,
            "max_width": null,
            "min_height": null,
            "min_width": null,
            "object_fit": null,
            "object_position": null,
            "order": null,
            "overflow": null,
            "overflow_x": null,
            "overflow_y": null,
            "padding": null,
            "right": null,
            "top": null,
            "visibility": null,
            "width": null
          }
        },
        "b4f5f930a6424bc1afaf9d2d83a0b15d": {
          "model_module": "@jupyter-widgets/controls",
          "model_name": "DescriptionStyleModel",
          "model_module_version": "1.5.0",
          "state": {
            "_model_module": "@jupyter-widgets/controls",
            "_model_module_version": "1.5.0",
            "_model_name": "DescriptionStyleModel",
            "_view_count": null,
            "_view_module": "@jupyter-widgets/base",
            "_view_module_version": "1.2.0",
            "_view_name": "StyleView",
            "description_width": ""
          }
        },
        "8a14ed7712ed43089d21b227a56e6f98": {
          "model_module": "@jupyter-widgets/base",
          "model_name": "LayoutModel",
          "model_module_version": "1.2.0",
          "state": {
            "_model_module": "@jupyter-widgets/base",
            "_model_module_version": "1.2.0",
            "_model_name": "LayoutModel",
            "_view_count": null,
            "_view_module": "@jupyter-widgets/base",
            "_view_module_version": "1.2.0",
            "_view_name": "LayoutView",
            "align_content": null,
            "align_items": null,
            "align_self": null,
            "border": null,
            "bottom": null,
            "display": null,
            "flex": null,
            "flex_flow": null,
            "grid_area": null,
            "grid_auto_columns": null,
            "grid_auto_flow": null,
            "grid_auto_rows": null,
            "grid_column": null,
            "grid_gap": null,
            "grid_row": null,
            "grid_template_areas": null,
            "grid_template_columns": null,
            "grid_template_rows": null,
            "height": null,
            "justify_content": null,
            "justify_items": null,
            "left": null,
            "margin": null,
            "max_height": null,
            "max_width": null,
            "min_height": null,
            "min_width": null,
            "object_fit": null,
            "object_position": null,
            "order": null,
            "overflow": null,
            "overflow_x": null,
            "overflow_y": null,
            "padding": null,
            "right": null,
            "top": null,
            "visibility": null,
            "width": null
          }
        },
        "724907d67c3a4ef68f4b21335e531932": {
          "model_module": "@jupyter-widgets/controls",
          "model_name": "ProgressStyleModel",
          "model_module_version": "1.5.0",
          "state": {
            "_model_module": "@jupyter-widgets/controls",
            "_model_module_version": "1.5.0",
            "_model_name": "ProgressStyleModel",
            "_view_count": null,
            "_view_module": "@jupyter-widgets/base",
            "_view_module_version": "1.2.0",
            "_view_name": "StyleView",
            "bar_color": null,
            "description_width": ""
          }
        },
        "b36c8049b6d74f18992f1d1dd7f4b891": {
          "model_module": "@jupyter-widgets/base",
          "model_name": "LayoutModel",
          "model_module_version": "1.2.0",
          "state": {
            "_model_module": "@jupyter-widgets/base",
            "_model_module_version": "1.2.0",
            "_model_name": "LayoutModel",
            "_view_count": null,
            "_view_module": "@jupyter-widgets/base",
            "_view_module_version": "1.2.0",
            "_view_name": "LayoutView",
            "align_content": null,
            "align_items": null,
            "align_self": null,
            "border": null,
            "bottom": null,
            "display": null,
            "flex": null,
            "flex_flow": null,
            "grid_area": null,
            "grid_auto_columns": null,
            "grid_auto_flow": null,
            "grid_auto_rows": null,
            "grid_column": null,
            "grid_gap": null,
            "grid_row": null,
            "grid_template_areas": null,
            "grid_template_columns": null,
            "grid_template_rows": null,
            "height": null,
            "justify_content": null,
            "justify_items": null,
            "left": null,
            "margin": null,
            "max_height": null,
            "max_width": null,
            "min_height": null,
            "min_width": null,
            "object_fit": null,
            "object_position": null,
            "order": null,
            "overflow": null,
            "overflow_x": null,
            "overflow_y": null,
            "padding": null,
            "right": null,
            "top": null,
            "visibility": null,
            "width": null
          }
        },
        "c13d100e9d654f298d77d7a7491a3807": {
          "model_module": "@jupyter-widgets/controls",
          "model_name": "DescriptionStyleModel",
          "model_module_version": "1.5.0",
          "state": {
            "_model_module": "@jupyter-widgets/controls",
            "_model_module_version": "1.5.0",
            "_model_name": "DescriptionStyleModel",
            "_view_count": null,
            "_view_module": "@jupyter-widgets/base",
            "_view_module_version": "1.2.0",
            "_view_name": "StyleView",
            "description_width": ""
          }
        }
      }
    },
    "accelerator": "GPU"
  },
  "nbformat_minor": 0,
  "nbformat": 4,
  "cells": [
    {
      "cell_type": "markdown",
      "source": [
        "# Facial Expressioin Recognition using ViT\n"
      ],
      "metadata": {
        "id": "4D6lTI4LOONw"
      }
    },
    {
      "cell_type": "code",
      "source": [
        "!pip install -U datasets\n",
        "!pip install evaluate\n",
        "!pip install --upgrade transformers\n"
      ],
      "metadata": {
        "colab": {
          "base_uri": "https://localhost:8080/"
        },
        "id": "jx--p1HnyKq0",
        "outputId": "74716396-7e31-4ded-f349-d34a0399289b"
      },
      "execution_count": 44,
      "outputs": [
        {
          "output_type": "stream",
          "name": "stdout",
          "text": [
            "Requirement already satisfied: datasets in /usr/local/lib/python3.11/dist-packages (3.6.0)\n",
            "Requirement already satisfied: filelock in /usr/local/lib/python3.11/dist-packages (from datasets) (3.18.0)\n",
            "Requirement already satisfied: numpy>=1.17 in /usr/local/lib/python3.11/dist-packages (from datasets) (2.0.2)\n",
            "Requirement already satisfied: pyarrow>=15.0.0 in /usr/local/lib/python3.11/dist-packages (from datasets) (18.1.0)\n",
            "Requirement already satisfied: dill<0.3.9,>=0.3.0 in /usr/local/lib/python3.11/dist-packages (from datasets) (0.3.7)\n",
            "Requirement already satisfied: pandas in /usr/local/lib/python3.11/dist-packages (from datasets) (2.2.2)\n",
            "Requirement already satisfied: requests>=2.32.2 in /usr/local/lib/python3.11/dist-packages (from datasets) (2.32.3)\n",
            "Requirement already satisfied: tqdm>=4.66.3 in /usr/local/lib/python3.11/dist-packages (from datasets) (4.67.1)\n",
            "Requirement already satisfied: xxhash in /usr/local/lib/python3.11/dist-packages (from datasets) (3.5.0)\n",
            "Requirement already satisfied: multiprocess<0.70.17 in /usr/local/lib/python3.11/dist-packages (from datasets) (0.70.15)\n",
            "Requirement already satisfied: fsspec<=2025.3.0,>=2023.1.0 in /usr/local/lib/python3.11/dist-packages (from fsspec[http]<=2025.3.0,>=2023.1.0->datasets) (2025.3.0)\n",
            "Requirement already satisfied: huggingface-hub>=0.24.0 in /usr/local/lib/python3.11/dist-packages (from datasets) (0.31.2)\n",
            "Requirement already satisfied: packaging in /usr/local/lib/python3.11/dist-packages (from datasets) (24.2)\n",
            "Requirement already satisfied: pyyaml>=5.1 in /usr/local/lib/python3.11/dist-packages (from datasets) (6.0.2)\n",
            "Requirement already satisfied: aiohttp!=4.0.0a0,!=4.0.0a1 in /usr/local/lib/python3.11/dist-packages (from fsspec[http]<=2025.3.0,>=2023.1.0->datasets) (3.11.15)\n",
            "Requirement already satisfied: typing-extensions>=3.7.4.3 in /usr/local/lib/python3.11/dist-packages (from huggingface-hub>=0.24.0->datasets) (4.13.2)\n",
            "Requirement already satisfied: charset-normalizer<4,>=2 in /usr/local/lib/python3.11/dist-packages (from requests>=2.32.2->datasets) (3.4.2)\n",
            "Requirement already satisfied: idna<4,>=2.5 in /usr/local/lib/python3.11/dist-packages (from requests>=2.32.2->datasets) (3.10)\n",
            "Requirement already satisfied: urllib3<3,>=1.21.1 in /usr/local/lib/python3.11/dist-packages (from requests>=2.32.2->datasets) (2.4.0)\n",
            "Requirement already satisfied: certifi>=2017.4.17 in /usr/local/lib/python3.11/dist-packages (from requests>=2.32.2->datasets) (2025.4.26)\n",
            "Requirement already satisfied: python-dateutil>=2.8.2 in /usr/local/lib/python3.11/dist-packages (from pandas->datasets) (2.9.0.post0)\n",
            "Requirement already satisfied: pytz>=2020.1 in /usr/local/lib/python3.11/dist-packages (from pandas->datasets) (2025.2)\n",
            "Requirement already satisfied: tzdata>=2022.7 in /usr/local/lib/python3.11/dist-packages (from pandas->datasets) (2025.2)\n",
            "Requirement already satisfied: aiohappyeyeballs>=2.3.0 in /usr/local/lib/python3.11/dist-packages (from aiohttp!=4.0.0a0,!=4.0.0a1->fsspec[http]<=2025.3.0,>=2023.1.0->datasets) (2.6.1)\n",
            "Requirement already satisfied: aiosignal>=1.1.2 in /usr/local/lib/python3.11/dist-packages (from aiohttp!=4.0.0a0,!=4.0.0a1->fsspec[http]<=2025.3.0,>=2023.1.0->datasets) (1.3.2)\n",
            "Requirement already satisfied: attrs>=17.3.0 in /usr/local/lib/python3.11/dist-packages (from aiohttp!=4.0.0a0,!=4.0.0a1->fsspec[http]<=2025.3.0,>=2023.1.0->datasets) (25.3.0)\n",
            "Requirement already satisfied: frozenlist>=1.1.1 in /usr/local/lib/python3.11/dist-packages (from aiohttp!=4.0.0a0,!=4.0.0a1->fsspec[http]<=2025.3.0,>=2023.1.0->datasets) (1.6.0)\n",
            "Requirement already satisfied: multidict<7.0,>=4.5 in /usr/local/lib/python3.11/dist-packages (from aiohttp!=4.0.0a0,!=4.0.0a1->fsspec[http]<=2025.3.0,>=2023.1.0->datasets) (6.4.3)\n",
            "Requirement already satisfied: propcache>=0.2.0 in /usr/local/lib/python3.11/dist-packages (from aiohttp!=4.0.0a0,!=4.0.0a1->fsspec[http]<=2025.3.0,>=2023.1.0->datasets) (0.3.1)\n",
            "Requirement already satisfied: yarl<2.0,>=1.17.0 in /usr/local/lib/python3.11/dist-packages (from aiohttp!=4.0.0a0,!=4.0.0a1->fsspec[http]<=2025.3.0,>=2023.1.0->datasets) (1.20.0)\n",
            "Requirement already satisfied: six>=1.5 in /usr/local/lib/python3.11/dist-packages (from python-dateutil>=2.8.2->pandas->datasets) (1.17.0)\n",
            "Requirement already satisfied: evaluate in /usr/local/lib/python3.11/dist-packages (0.4.3)\n",
            "Requirement already satisfied: datasets>=2.0.0 in /usr/local/lib/python3.11/dist-packages (from evaluate) (3.6.0)\n",
            "Requirement already satisfied: numpy>=1.17 in /usr/local/lib/python3.11/dist-packages (from evaluate) (2.0.2)\n",
            "Requirement already satisfied: dill in /usr/local/lib/python3.11/dist-packages (from evaluate) (0.3.7)\n",
            "Requirement already satisfied: pandas in /usr/local/lib/python3.11/dist-packages (from evaluate) (2.2.2)\n",
            "Requirement already satisfied: requests>=2.19.0 in /usr/local/lib/python3.11/dist-packages (from evaluate) (2.32.3)\n",
            "Requirement already satisfied: tqdm>=4.62.1 in /usr/local/lib/python3.11/dist-packages (from evaluate) (4.67.1)\n",
            "Requirement already satisfied: xxhash in /usr/local/lib/python3.11/dist-packages (from evaluate) (3.5.0)\n",
            "Requirement already satisfied: multiprocess in /usr/local/lib/python3.11/dist-packages (from evaluate) (0.70.15)\n",
            "Requirement already satisfied: fsspec>=2021.05.0 in /usr/local/lib/python3.11/dist-packages (from fsspec[http]>=2021.05.0->evaluate) (2025.3.0)\n",
            "Requirement already satisfied: huggingface-hub>=0.7.0 in /usr/local/lib/python3.11/dist-packages (from evaluate) (0.31.2)\n",
            "Requirement already satisfied: packaging in /usr/local/lib/python3.11/dist-packages (from evaluate) (24.2)\n",
            "Requirement already satisfied: filelock in /usr/local/lib/python3.11/dist-packages (from datasets>=2.0.0->evaluate) (3.18.0)\n",
            "Requirement already satisfied: pyarrow>=15.0.0 in /usr/local/lib/python3.11/dist-packages (from datasets>=2.0.0->evaluate) (18.1.0)\n",
            "Requirement already satisfied: pyyaml>=5.1 in /usr/local/lib/python3.11/dist-packages (from datasets>=2.0.0->evaluate) (6.0.2)\n",
            "Requirement already satisfied: aiohttp!=4.0.0a0,!=4.0.0a1 in /usr/local/lib/python3.11/dist-packages (from fsspec[http]>=2021.05.0->evaluate) (3.11.15)\n",
            "Requirement already satisfied: typing-extensions>=3.7.4.3 in /usr/local/lib/python3.11/dist-packages (from huggingface-hub>=0.7.0->evaluate) (4.13.2)\n",
            "Requirement already satisfied: charset-normalizer<4,>=2 in /usr/local/lib/python3.11/dist-packages (from requests>=2.19.0->evaluate) (3.4.2)\n",
            "Requirement already satisfied: idna<4,>=2.5 in /usr/local/lib/python3.11/dist-packages (from requests>=2.19.0->evaluate) (3.10)\n",
            "Requirement already satisfied: urllib3<3,>=1.21.1 in /usr/local/lib/python3.11/dist-packages (from requests>=2.19.0->evaluate) (2.4.0)\n",
            "Requirement already satisfied: certifi>=2017.4.17 in /usr/local/lib/python3.11/dist-packages (from requests>=2.19.0->evaluate) (2025.4.26)\n",
            "Requirement already satisfied: python-dateutil>=2.8.2 in /usr/local/lib/python3.11/dist-packages (from pandas->evaluate) (2.9.0.post0)\n",
            "Requirement already satisfied: pytz>=2020.1 in /usr/local/lib/python3.11/dist-packages (from pandas->evaluate) (2025.2)\n",
            "Requirement already satisfied: tzdata>=2022.7 in /usr/local/lib/python3.11/dist-packages (from pandas->evaluate) (2025.2)\n",
            "Requirement already satisfied: aiohappyeyeballs>=2.3.0 in /usr/local/lib/python3.11/dist-packages (from aiohttp!=4.0.0a0,!=4.0.0a1->fsspec[http]>=2021.05.0->evaluate) (2.6.1)\n",
            "Requirement already satisfied: aiosignal>=1.1.2 in /usr/local/lib/python3.11/dist-packages (from aiohttp!=4.0.0a0,!=4.0.0a1->fsspec[http]>=2021.05.0->evaluate) (1.3.2)\n",
            "Requirement already satisfied: attrs>=17.3.0 in /usr/local/lib/python3.11/dist-packages (from aiohttp!=4.0.0a0,!=4.0.0a1->fsspec[http]>=2021.05.0->evaluate) (25.3.0)\n",
            "Requirement already satisfied: frozenlist>=1.1.1 in /usr/local/lib/python3.11/dist-packages (from aiohttp!=4.0.0a0,!=4.0.0a1->fsspec[http]>=2021.05.0->evaluate) (1.6.0)\n",
            "Requirement already satisfied: multidict<7.0,>=4.5 in /usr/local/lib/python3.11/dist-packages (from aiohttp!=4.0.0a0,!=4.0.0a1->fsspec[http]>=2021.05.0->evaluate) (6.4.3)\n",
            "Requirement already satisfied: propcache>=0.2.0 in /usr/local/lib/python3.11/dist-packages (from aiohttp!=4.0.0a0,!=4.0.0a1->fsspec[http]>=2021.05.0->evaluate) (0.3.1)\n",
            "Requirement already satisfied: yarl<2.0,>=1.17.0 in /usr/local/lib/python3.11/dist-packages (from aiohttp!=4.0.0a0,!=4.0.0a1->fsspec[http]>=2021.05.0->evaluate) (1.20.0)\n",
            "Requirement already satisfied: six>=1.5 in /usr/local/lib/python3.11/dist-packages (from python-dateutil>=2.8.2->pandas->evaluate) (1.17.0)\n",
            "Requirement already satisfied: transformers in /usr/local/lib/python3.11/dist-packages (4.51.3)\n",
            "Requirement already satisfied: filelock in /usr/local/lib/python3.11/dist-packages (from transformers) (3.18.0)\n",
            "Requirement already satisfied: huggingface-hub<1.0,>=0.30.0 in /usr/local/lib/python3.11/dist-packages (from transformers) (0.31.2)\n",
            "Requirement already satisfied: numpy>=1.17 in /usr/local/lib/python3.11/dist-packages (from transformers) (2.0.2)\n",
            "Requirement already satisfied: packaging>=20.0 in /usr/local/lib/python3.11/dist-packages (from transformers) (24.2)\n",
            "Requirement already satisfied: pyyaml>=5.1 in /usr/local/lib/python3.11/dist-packages (from transformers) (6.0.2)\n",
            "Requirement already satisfied: regex!=2019.12.17 in /usr/local/lib/python3.11/dist-packages (from transformers) (2024.11.6)\n",
            "Requirement already satisfied: requests in /usr/local/lib/python3.11/dist-packages (from transformers) (2.32.3)\n",
            "Requirement already satisfied: tokenizers<0.22,>=0.21 in /usr/local/lib/python3.11/dist-packages (from transformers) (0.21.1)\n",
            "Requirement already satisfied: safetensors>=0.4.3 in /usr/local/lib/python3.11/dist-packages (from transformers) (0.5.3)\n",
            "Requirement already satisfied: tqdm>=4.27 in /usr/local/lib/python3.11/dist-packages (from transformers) (4.67.1)\n",
            "Requirement already satisfied: fsspec>=2023.5.0 in /usr/local/lib/python3.11/dist-packages (from huggingface-hub<1.0,>=0.30.0->transformers) (2025.3.0)\n",
            "Requirement already satisfied: typing-extensions>=3.7.4.3 in /usr/local/lib/python3.11/dist-packages (from huggingface-hub<1.0,>=0.30.0->transformers) (4.13.2)\n",
            "Requirement already satisfied: charset-normalizer<4,>=2 in /usr/local/lib/python3.11/dist-packages (from requests->transformers) (3.4.2)\n",
            "Requirement already satisfied: idna<4,>=2.5 in /usr/local/lib/python3.11/dist-packages (from requests->transformers) (3.10)\n",
            "Requirement already satisfied: urllib3<3,>=1.21.1 in /usr/local/lib/python3.11/dist-packages (from requests->transformers) (2.4.0)\n",
            "Requirement already satisfied: certifi>=2017.4.17 in /usr/local/lib/python3.11/dist-packages (from requests->transformers) (2025.4.26)\n"
          ]
        }
      ]
    },
    {
      "cell_type": "markdown",
      "source": [
        "# Data Source\n",
        "\n",
        "- The data is downloaded from the Kaggle: 'msambare/fer2013'. This dataset is used for training purpose.\n",
        "\n",
        "- Another dataset mohammedabdekdayem/testing-fer is used for final testing purpose.\n"
      ],
      "metadata": {
        "id": "QM1DwGpJ51c7"
      }
    },
    {
      "source": [
        "import os\n",
        "import kagglehub\n",
        "\n",
        "msambare_fer2013_path = kagglehub.dataset_download('msambare/fer2013')\n",
        "mohammedabdeldayem_testing_fer_path = kagglehub.dataset_download('mohammedabdeldayem/testing-fer')\n",
        "\n",
        "\n",
        "# print(os.path.exists(mahmoudima_mma_facial_expression_path))\n",
        "print(f'Checking if the datapath for train data exists: {os.path.exists(msambare_fer2013_path)}')\n",
        "print(f'Checking if the datappath for test data exists: {os.path.exists(mohammedabdeldayem_testing_fer_path)}')"
      ],
      "metadata": {
        "id": "t9iXu019nvnB",
        "outputId": "ee0a66ed-9608-4ff9-d8fc-274d26030261",
        "colab": {
          "base_uri": "https://localhost:8080/"
        }
      },
      "cell_type": "code",
      "outputs": [
        {
          "output_type": "stream",
          "name": "stdout",
          "text": [
            "Checking if the datapath for train data exists: True\n",
            "Checking if the datappath for test data exists: True\n"
          ]
        }
      ],
      "execution_count": 45
    },
    {
      "cell_type": "code",
      "source": [
        "!ls /kaggle/input/fer2013"
      ],
      "metadata": {
        "id": "U7uArH4YqxEI",
        "outputId": "47e05061-ea95-4520-b1e3-0afeeab8c963",
        "colab": {
          "base_uri": "https://localhost:8080/"
        }
      },
      "execution_count": 46,
      "outputs": [
        {
          "output_type": "stream",
          "name": "stdout",
          "text": [
            "test  train\n"
          ]
        }
      ]
    },
    {
      "cell_type": "code",
      "source": [
        "!ls /kaggle/input/fer2013/train/"
      ],
      "metadata": {
        "colab": {
          "base_uri": "https://localhost:8080/"
        },
        "id": "LDs6tUzZekET",
        "outputId": "40e6577e-a5e5-433a-e260-a7b007489423"
      },
      "execution_count": 47,
      "outputs": [
        {
          "output_type": "stream",
          "name": "stdout",
          "text": [
            "angry  disgust\tfear  happy  neutral  sad  surprise\n"
          ]
        }
      ]
    },
    {
      "cell_type": "code",
      "source": [
        "import numpy as np\n",
        "import pandas as pd\n",
        "import matplotlib.pyplot as plt\n",
        "from sklearn.metrics import accuracy_score,roc_auc_score,confusion_matrix,classification_report,f1_score\n",
        "import cv2\n",
        "import os\n",
        "import torch\n",
        "import seaborn as sns\n",
        "from sklearn.model_selection import train_test_split\n",
        "from datasets import load_dataset,concatenate_datasets\n",
        "# from evaluate import load # Import load_metric using the correct path\n",
        "import evaluate\n",
        "from huggingface_hub import notebook_login\n",
        "from transformers import AutoImageProcessor, AutoModelForImageClassification, TrainingArguments, Trainer, pipeline\n",
        "from torchvision.transforms import (\n",
        "    CenterCrop,\n",
        "    Compose,\n",
        "    Normalize,\n",
        "    RandomRotation,\n",
        "    RandomResizedCrop,\n",
        "    RandomHorizontalFlip,\n",
        "    RandomAdjustSharpness,\n",
        "    Resize,\n",
        "    ToTensor\n",
        ")\n",
        "import itertools\n",
        "\n",
        "\n",
        "from torchvision.datasets import ImageFolder\n",
        "from torchvision import transforms\n",
        "from torch.utils.data import DataLoader"
      ],
      "metadata": {
        "execution": {
          "iopub.status.busy": "2024-05-27T12:29:33.450468Z",
          "iopub.execute_input": "2024-05-27T12:29:33.451403Z",
          "iopub.status.idle": "2024-05-27T12:29:51.064963Z",
          "shell.execute_reply.started": "2024-05-27T12:29:33.451369Z",
          "shell.execute_reply": "2024-05-27T12:29:51.064073Z"
        },
        "trusted": true,
        "id": "vgXP24OonvnC"
      },
      "execution_count": 48,
      "outputs": []
    },
    {
      "cell_type": "code",
      "source": [
        "# pre-trained model from which to fine-tune\n",
        "model_checkpoint = \"motheecreator/vit-Facial-Expression-Recognition\""
      ],
      "metadata": {
        "execution": {
          "iopub.status.busy": "2024-05-27T18:06:03.251302Z",
          "iopub.execute_input": "2024-05-27T18:06:03.252183Z",
          "iopub.status.idle": "2024-05-27T18:06:03.256049Z",
          "shell.execute_reply.started": "2024-05-27T18:06:03.25215Z",
          "shell.execute_reply": "2024-05-27T18:06:03.255133Z"
        },
        "trusted": true,
        "id": "U_LeyFlznvnD"
      },
      "execution_count": 49,
      "outputs": []
    },
    {
      "cell_type": "code",
      "source": [
        "# from datasets import load_dataset\n",
        "\n",
        "# dataset = load_dataset(\n",
        "#     \"imagefolder\",\n",
        "#     data_dir=\"/kaggle/input/fer2013\"\n",
        "# )"
      ],
      "metadata": {
        "id": "c83p0elpvUbd"
      },
      "execution_count": 50,
      "outputs": []
    },
    {
      "cell_type": "markdown",
      "source": [
        "# Data Loading"
      ],
      "metadata": {
        "id": "GO9CmLyXf06S"
      }
    },
    {
      "cell_type": "code",
      "source": [
        "fer_dataset = load_dataset(\"imagefolder\", data_dir=\"/kaggle/input/fer2013\")"
      ],
      "metadata": {
        "execution": {
          "iopub.status.busy": "2024-05-27T12:37:07.497642Z",
          "iopub.execute_input": "2024-05-27T12:37:07.497942Z",
          "iopub.status.idle": "2024-05-27T12:43:19.725975Z",
          "shell.execute_reply.started": "2024-05-27T12:37:07.497916Z",
          "shell.execute_reply": "2024-05-27T12:43:19.72477Z"
        },
        "trusted": true,
        "id": "N5YzkPa0nvnD",
        "colab": {
          "base_uri": "https://localhost:8080/",
          "height": 81,
          "referenced_widgets": [
            "937ea35f32054da38ae345d5301d99b3",
            "5075300d8481494f8b4d66dd03937b04",
            "606022e1686e458cb2ac86260709784c",
            "a0607ece402b45d78d3f7bcf93ab7cdb",
            "debceea512404c68a3c7211f6ba8ed90",
            "4830262fa13a411eaa0230dc5f42c652",
            "3e72617442e743f1b1fc0d2ecb55b6ac",
            "13b15fb0be8349a8bf6a501d23d5db47",
            "5fedd7af80604cbd9f1158a100097ad4",
            "f16f9a5b9154420ba136dd93405b8e5a",
            "1e212bbade78498e93f781551704386b",
            "913dc57d1d454402b6679ed8415b7a6c",
            "4b8b987076aa4af39a7f417842a34d11",
            "6a66fbc635c5401c86f7feafbb9b3d35",
            "618cb720b1a141d889bd68e8eb154ec5",
            "52b70f63b499445fbeb8174422cbcd83",
            "5f5547a1b17e485abb9f1eb5139d45ab",
            "ca5ec9d0535d439d875aa0fac53a098b",
            "63e710673557409492fced4b611b47f2",
            "5f5629cdd3f2432a940d2227bdab94a2",
            "10a0d8477e9940c5b4a339a574759029",
            "3762cd4720a64e27839308a865ff48d2"
          ]
        },
        "outputId": "b8dfd076-4a16-49f3-c05d-02bcebe5077a"
      },
      "execution_count": 51,
      "outputs": [
        {
          "output_type": "display_data",
          "data": {
            "text/plain": [
              "Resolving data files:   0%|          | 0/28709 [00:00<?, ?it/s]"
            ],
            "application/vnd.jupyter.widget-view+json": {
              "version_major": 2,
              "version_minor": 0,
              "model_id": "937ea35f32054da38ae345d5301d99b3"
            }
          },
          "metadata": {}
        },
        {
          "output_type": "display_data",
          "data": {
            "text/plain": [
              "Resolving data files:   0%|          | 0/7178 [00:00<?, ?it/s]"
            ],
            "application/vnd.jupyter.widget-view+json": {
              "version_major": 2,
              "version_minor": 0,
              "model_id": "913dc57d1d454402b6679ed8415b7a6c"
            }
          },
          "metadata": {}
        }
      ]
    },
    {
      "cell_type": "code",
      "source": [
        "from datasets import DatasetDict, ClassLabel\n",
        "# For separating the fer data\n",
        "dataset = DatasetDict()"
      ],
      "metadata": {
        "execution": {
          "iopub.status.busy": "2024-05-27T12:57:12.006311Z",
          "iopub.execute_input": "2024-05-27T12:57:12.006611Z",
          "iopub.status.idle": "2024-05-27T12:57:12.010504Z",
          "shell.execute_reply.started": "2024-05-27T12:57:12.006572Z",
          "shell.execute_reply": "2024-05-27T12:57:12.009653Z"
        },
        "trusted": true,
        "id": "7au-Rf3SnvnE"
      },
      "execution_count": 52,
      "outputs": []
    },
    {
      "cell_type": "code",
      "source": [
        "dataset = fer_dataset"
      ],
      "metadata": {
        "execution": {
          "iopub.status.busy": "2024-05-27T12:57:12.011594Z",
          "iopub.execute_input": "2024-05-27T12:57:12.011854Z",
          "iopub.status.idle": "2024-05-27T12:57:12.021305Z",
          "shell.execute_reply.started": "2024-05-27T12:57:12.011832Z",
          "shell.execute_reply": "2024-05-27T12:57:12.020435Z"
        },
        "trusted": true,
        "id": "ydQ0tIW3nvnE"
      },
      "execution_count": 53,
      "outputs": []
    },
    {
      "cell_type": "code",
      "source": [
        "dataset"
      ],
      "metadata": {
        "execution": {
          "iopub.status.busy": "2024-05-27T12:57:12.02216Z",
          "iopub.execute_input": "2024-05-27T12:57:12.023024Z",
          "iopub.status.idle": "2024-05-27T12:57:12.0323Z",
          "shell.execute_reply.started": "2024-05-27T12:57:12.022992Z",
          "shell.execute_reply": "2024-05-27T12:57:12.031379Z"
        },
        "trusted": true,
        "id": "FHkdMZ3KnvnE",
        "colab": {
          "base_uri": "https://localhost:8080/"
        },
        "outputId": "d4315214-75cc-41af-ca44-fdf073ad70e5"
      },
      "execution_count": 54,
      "outputs": [
        {
          "output_type": "execute_result",
          "data": {
            "text/plain": [
              "DatasetDict({\n",
              "    train: Dataset({\n",
              "        features: ['image', 'label'],\n",
              "        num_rows: 28709\n",
              "    })\n",
              "    test: Dataset({\n",
              "        features: ['image', 'label'],\n",
              "        num_rows: 7178\n",
              "    })\n",
              "})"
            ]
          },
          "metadata": {},
          "execution_count": 54
        }
      ]
    },
    {
      "cell_type": "markdown",
      "source": [
        "# Visualizing the Sample of Training data"
      ],
      "metadata": {
        "id": "U35qe_6RUayh"
      }
    },
    {
      "cell_type": "code",
      "source": [
        "# prompt: visualize the 10 sample of data randomly choosing from the Training dataset, showcase the labels too and map the labels to original labels too\n",
        "\n",
        "import random\n",
        "import matplotlib.pyplot as plt\n",
        "\n",
        "\n",
        "# Define the mapping between numeric labels and original labels\n",
        "label_mapping = {\n",
        "    0: \"Angry\",\n",
        "    1: \"Disgust\",\n",
        "    2: \"Fear\",\n",
        "    3: \"Happy\",\n",
        "    4: \"Sad\",\n",
        "    5: \"Surprise\",\n",
        "    6: \"Neutral\"\n",
        "}\n",
        "\n",
        "\n",
        "# Sample 10 random images from the training set\n",
        "num_samples = 10\n",
        "random_indices = random.sample(range(len(dataset['train'])), num_samples)\n",
        "samples = [dataset['train'][i] for i in random_indices]\n",
        "\n",
        "# Visualize the samples\n",
        "plt.figure(figsize=(15, 10))\n",
        "for i, sample in enumerate(samples):\n",
        "    plt.subplot(2, 5, i + 1)\n",
        "    plt.imshow(sample['image'])\n",
        "    plt.title(f\"Label: {label_mapping[sample['label']]}\")\n",
        "    plt.axis('off')\n",
        "\n",
        "plt.tight_layout()\n",
        "plt.show()\n"
      ],
      "metadata": {
        "colab": {
          "base_uri": "https://localhost:8080/",
          "height": 661
        },
        "id": "TC15Q1SiRY-K",
        "outputId": "6919a6ec-9fd8-4fb1-e607-d43d17d6521f"
      },
      "execution_count": 55,
      "outputs": [
        {
          "output_type": "display_data",
          "data": {
            "text/plain": [
              "<Figure size 1500x1000 with 10 Axes>"
            ],
            "image/png": "[encoded data removed]"
          },
          "metadata": {}
        }
      ]
    },
    {
      "cell_type": "markdown",
      "source": [
        "# Data Understanding\n",
        "\n",
        "## Label Distribution"
      ],
      "metadata": {
        "id": "kC2YyjDcXs5f"
      }
    },
    {
      "cell_type": "code",
      "source": [
        "\n",
        "import matplotlib.pyplot as plt\n",
        "import seaborn as sns\n",
        "\n",
        "def plot_label_distribution(data:str='train'):\n",
        "  # Count the occurrences of each label\n",
        "  label_counts = {}\n",
        "  for label in dataset[data]['label']:\n",
        "      original_label = label_mapping[label]\n",
        "      label_counts[original_label] = label_counts.get(original_label, 0) + 1\n",
        "\n",
        "  # Create a bar chart\n",
        "  plt.figure(figsize=(10, 6))\n",
        "  sns.barplot(x=list(label_counts.keys()), y=list(label_counts.values()))\n",
        "  plt.xlabel(\"Emotion Labels\")\n",
        "  plt.ylabel(\"Number of Images\")\n",
        "  plt.title(\"Distribution of Emotion Labels in Training Set\")\n",
        "  plt.xticks(rotation=45, ha='right')  # Rotate x-axis labels for better readability\n",
        "  plt.tight_layout()\n",
        "  plt.show()\n",
        "\n",
        "# plot labels distribution in training data samples\n",
        "plot_label_distribution()"
      ],
      "metadata": {
        "colab": {
          "base_uri": "https://localhost:8080/",
          "height": 607
        },
        "id": "_Algll01UgOc",
        "outputId": "88e8bff5-e2d2-41b0-c00d-01efaf1751ca"
      },
      "execution_count": 56,
      "outputs": [
        {
          "output_type": "display_data",
          "data": {
            "text/plain": [
              "<Figure size 1000x600 with 1 Axes>"
            ],
            "image/png": "[encoded data removed]"
          },
          "metadata": {}
        }
      ]
    },
    {
      "cell_type": "code",
      "source": [
        "plot_label_distribution('test')"
      ],
      "metadata": {
        "colab": {
          "base_uri": "https://localhost:8080/",
          "height": 607
        },
        "id": "YnvV2zgGVoWa",
        "outputId": "080825a4-8cde-4123-e306-ef8bcc809926"
      },
      "execution_count": 57,
      "outputs": [
        {
          "output_type": "display_data",
          "data": {
            "text/plain": [
              "<Figure size 1000x600 with 1 Axes>"
            ],
            "image/png": "[encoded data removed]"
          },
          "metadata": {}
        }
      ]
    },
    {
      "cell_type": "code",
      "source": [
        "dataset['train'].features"
      ],
      "metadata": {
        "execution": {
          "iopub.status.busy": "2024-05-27T12:57:12.047578Z",
          "iopub.execute_input": "2024-05-27T12:57:12.048823Z",
          "iopub.status.idle": "2024-05-27T12:57:12.054401Z",
          "shell.execute_reply.started": "2024-05-27T12:57:12.048797Z",
          "shell.execute_reply": "2024-05-27T12:57:12.053536Z"
        },
        "trusted": true,
        "id": "yHSHMFQKnvnE",
        "colab": {
          "base_uri": "https://localhost:8080/"
        },
        "outputId": "240ef32d-bcfb-4e08-989a-b75cd05bc169"
      },
      "execution_count": 58,
      "outputs": [
        {
          "output_type": "execute_result",
          "data": {
            "text/plain": [
              "{'image': Image(mode=None, decode=True, id=None),\n",
              " 'label': ClassLabel(names=['angry', 'disgust', 'fear', 'happy', 'neutral', 'sad', 'surprise'], id=None)}"
            ]
          },
          "metadata": {},
          "execution_count": 58
        }
      ]
    },
    {
      "cell_type": "code",
      "source": [
        "labels = dataset[\"train\"].features[\"label\"].names\n",
        "label2id, id2label = dict(), dict()\n",
        "for i, label in enumerate(labels):\n",
        "    label2id[label] = i\n",
        "    id2label[i] = label"
      ],
      "metadata": {
        "execution": {
          "iopub.status.busy": "2024-05-27T12:57:12.055589Z",
          "iopub.execute_input": "2024-05-27T12:57:12.055917Z",
          "iopub.status.idle": "2024-05-27T12:57:12.062057Z",
          "shell.execute_reply.started": "2024-05-27T12:57:12.055885Z",
          "shell.execute_reply": "2024-05-27T12:57:12.061219Z"
        },
        "trusted": true,
        "id": "_hWvx-z2nvnE"
      },
      "execution_count": 59,
      "outputs": []
    },
    {
      "cell_type": "code",
      "source": [
        "label2id"
      ],
      "metadata": {
        "execution": {
          "iopub.status.busy": "2024-05-27T12:57:12.06326Z",
          "iopub.execute_input": "2024-05-27T12:57:12.063867Z",
          "iopub.status.idle": "2024-05-27T12:57:12.072652Z",
          "shell.execute_reply.started": "2024-05-27T12:57:12.063834Z",
          "shell.execute_reply": "2024-05-27T12:57:12.071647Z"
        },
        "trusted": true,
        "id": "6dnJ_rXfnvnE",
        "colab": {
          "base_uri": "https://localhost:8080/"
        },
        "outputId": "284932bc-17ff-45f8-e667-a45f07aa5a43"
      },
      "execution_count": 60,
      "outputs": [
        {
          "output_type": "execute_result",
          "data": {
            "text/plain": [
              "{'angry': 0,\n",
              " 'disgust': 1,\n",
              " 'fear': 2,\n",
              " 'happy': 3,\n",
              " 'neutral': 4,\n",
              " 'sad': 5,\n",
              " 'surprise': 6}"
            ]
          },
          "metadata": {},
          "execution_count": 60
        }
      ]
    },
    {
      "cell_type": "markdown",
      "source": [
        "# Data Preprocessing and Transformation"
      ],
      "metadata": {
        "id": "MG4OzA-BgWWG"
      }
    },
    {
      "cell_type": "code",
      "source": [
        "# Using ViT specifice image preprocessor\n",
        "image_processor  = AutoImageProcessor.from_pretrained(model_checkpoint)\n",
        "image_processor"
      ],
      "metadata": {
        "execution": {
          "iopub.status.busy": "2024-05-27T12:57:12.073801Z",
          "iopub.execute_input": "2024-05-27T12:57:12.074173Z",
          "iopub.status.idle": "2024-05-27T12:57:13.021524Z",
          "shell.execute_reply.started": "2024-05-27T12:57:12.074148Z",
          "shell.execute_reply": "2024-05-27T12:57:13.02067Z"
        },
        "trusted": true,
        "id": "v5i-OE8KnvnE",
        "colab": {
          "base_uri": "https://localhost:8080/"
        },
        "outputId": "4e9801db-215e-4167-a9b4-622487645958"
      },
      "execution_count": 61,
      "outputs": [
        {
          "output_type": "execute_result",
          "data": {
            "text/plain": [
              "ViTImageProcessor {\n",
              "  \"do_convert_rgb\": null,\n",
              "  \"do_normalize\": true,\n",
              "  \"do_rescale\": true,\n",
              "  \"do_resize\": true,\n",
              "  \"image_mean\": [\n",
              "    0.5,\n",
              "    0.5,\n",
              "    0.5\n",
              "  ],\n",
              "  \"image_processor_type\": \"ViTImageProcessor\",\n",
              "  \"image_std\": [\n",
              "    0.5,\n",
              "    0.5,\n",
              "    0.5\n",
              "  ],\n",
              "  \"resample\": 2,\n",
              "  \"rescale_factor\": 0.00392156862745098,\n",
              "  \"size\": {\n",
              "    \"height\": 224,\n",
              "    \"width\": 224\n",
              "  }\n",
              "}"
            ]
          },
          "metadata": {},
          "execution_count": 61
        }
      ]
    },
    {
      "cell_type": "code",
      "source": [
        "# Retrieve the image mean and standard deviation used for normalization\n",
        "image_mean, image_std = image_processor.image_mean, image_processor.image_std\n",
        "\n",
        "# Get the size (height) of the ViT model's input images\n",
        "size = image_processor.size[\"height\"]\n",
        "print(\"Size: \", size)\n",
        "\n",
        "# Define a normalization transformation for the input images\n",
        "normalize = Normalize(mean=image_mean, std=image_std)\n",
        "\n",
        "# Define a set of transformations for training data\n",
        "train_tf = Compose(\n",
        "    [\n",
        "        Resize((size, size)),             # Resize images to the ViT model's input size\n",
        "        RandomRotation(90),               # Apply random rotation\n",
        "        RandomAdjustSharpness(2),         # Adjust sharpness randomly\n",
        "        RandomHorizontalFlip(0.5),        # Random horizontal flip\n",
        "        ToTensor(),                       # Convert images to tensors\n",
        "        normalize                          # Normalize images using mean and std\n",
        "    ]\n",
        ")\n",
        "# Define a set of transformations for validation data\n",
        "val_tf = Compose(\n",
        "    [\n",
        "        Resize((size, size)),             # Resize images to the ViT model's input size\n",
        "        ToTensor(),                       # Convert images to tensors\n",
        "        normalize                         # Normalize images using mean and std\n",
        "    ]\n",
        ")"
      ],
      "metadata": {
        "execution": {
          "iopub.status.busy": "2024-05-27T12:57:13.022903Z",
          "iopub.execute_input": "2024-05-27T12:57:13.023498Z",
          "iopub.status.idle": "2024-05-27T12:57:13.032509Z",
          "shell.execute_reply.started": "2024-05-27T12:57:13.023464Z",
          "shell.execute_reply": "2024-05-27T12:57:13.031533Z"
        },
        "trusted": true,
        "id": "nhTYmfXRnvnE",
        "colab": {
          "base_uri": "https://localhost:8080/"
        },
        "outputId": "4fd4a3d3-922c-4908-c6cb-ba41e78a52e8"
      },
      "execution_count": 62,
      "outputs": [
        {
          "output_type": "stream",
          "name": "stdout",
          "text": [
            "Size:  224\n"
          ]
        }
      ]
    },
    {
      "cell_type": "code",
      "source": [
        "# Define a function to apply training transformations to a batch of examples\n",
        "def train_transforms(examples):\n",
        "    examples['pixel_values'] = [train_tf(image.convert(\"RGB\")) for image in examples['image']]\n",
        "    return examples\n",
        "\n",
        "# Define a function to apply validation transformations to a batch of examples\n",
        "def val_transforms(examples):\n",
        "    examples['pixel_values'] = [val_tf(image.convert(\"RGB\")) for image in examples['image']]\n",
        "    return examples"
      ],
      "metadata": {
        "execution": {
          "iopub.status.busy": "2024-05-27T12:57:13.033712Z",
          "iopub.execute_input": "2024-05-27T12:57:13.03405Z",
          "iopub.status.idle": "2024-05-27T12:57:13.044209Z",
          "shell.execute_reply.started": "2024-05-27T12:57:13.034017Z",
          "shell.execute_reply": "2024-05-27T12:57:13.043441Z"
        },
        "trusted": true,
        "id": "RFa7BqzbnvnE"
      },
      "execution_count": 63,
      "outputs": []
    },
    {
      "cell_type": "code",
      "source": [
        "# # split up training\n",
        "train_data = dataset['train']\n",
        "val_data = dataset['test']"
      ],
      "metadata": {
        "execution": {
          "iopub.status.busy": "2024-05-27T12:57:13.045292Z",
          "iopub.execute_input": "2024-05-27T12:57:13.04555Z",
          "iopub.status.idle": "2024-05-27T12:57:13.127365Z",
          "shell.execute_reply.started": "2024-05-27T12:57:13.045528Z",
          "shell.execute_reply": "2024-05-27T12:57:13.12664Z"
        },
        "trusted": true,
        "id": "AzSyQDxUnvnF"
      },
      "execution_count": 64,
      "outputs": []
    },
    {
      "cell_type": "code",
      "source": [],
      "metadata": {
        "id": "n8zRDfoBYZHx"
      },
      "execution_count": 64,
      "outputs": []
    },
    {
      "cell_type": "code",
      "source": [
        "train_data"
      ],
      "metadata": {
        "execution": {
          "iopub.status.busy": "2024-05-27T12:57:13.128406Z",
          "iopub.execute_input": "2024-05-27T12:57:13.128695Z",
          "iopub.status.idle": "2024-05-27T12:57:13.13454Z",
          "shell.execute_reply.started": "2024-05-27T12:57:13.128671Z",
          "shell.execute_reply": "2024-05-27T12:57:13.13364Z"
        },
        "trusted": true,
        "id": "Bi-R6b3GnvnF",
        "colab": {
          "base_uri": "https://localhost:8080/"
        },
        "outputId": "b37c3166-ce01-480b-a8b9-98802600fec5"
      },
      "execution_count": 65,
      "outputs": [
        {
          "output_type": "execute_result",
          "data": {
            "text/plain": [
              "Dataset({\n",
              "    features: ['image', 'label'],\n",
              "    num_rows: 28709\n",
              "})"
            ]
          },
          "metadata": {},
          "execution_count": 65
        }
      ]
    },
    {
      "cell_type": "code",
      "source": [
        "val_data"
      ],
      "metadata": {
        "execution": {
          "iopub.status.busy": "2024-05-27T12:57:13.135707Z",
          "iopub.execute_input": "2024-05-27T12:57:13.136028Z",
          "iopub.status.idle": "2024-05-27T12:57:13.147501Z",
          "shell.execute_reply.started": "2024-05-27T12:57:13.135996Z",
          "shell.execute_reply": "2024-05-27T12:57:13.146738Z"
        },
        "trusted": true,
        "id": "L4PxKV35nvnF",
        "colab": {
          "base_uri": "https://localhost:8080/"
        },
        "outputId": "e0dd6047-3bea-49b6-9f1b-ab4ed840031e"
      },
      "execution_count": 66,
      "outputs": [
        {
          "output_type": "execute_result",
          "data": {
            "text/plain": [
              "Dataset({\n",
              "    features: ['image', 'label'],\n",
              "    num_rows: 7178\n",
              "})"
            ]
          },
          "metadata": {},
          "execution_count": 66
        }
      ]
    },
    {
      "cell_type": "code",
      "source": [
        "# Transform train and val dataset\n",
        "train_data.set_transform(train_transforms)\n",
        "val_data.set_transform(val_transforms)"
      ],
      "metadata": {
        "execution": {
          "iopub.status.busy": "2024-05-27T12:57:13.148644Z",
          "iopub.execute_input": "2024-05-27T12:57:13.149101Z",
          "iopub.status.idle": "2024-05-27T12:57:13.157254Z",
          "shell.execute_reply.started": "2024-05-27T12:57:13.149074Z",
          "shell.execute_reply": "2024-05-27T12:57:13.15627Z"
        },
        "trusted": true,
        "id": "guebTT4BnvnF"
      },
      "execution_count": 67,
      "outputs": []
    },
    {
      "cell_type": "code",
      "source": [
        "train_data[0]"
      ],
      "metadata": {
        "execution": {
          "iopub.status.busy": "2024-05-27T12:57:13.158284Z",
          "iopub.execute_input": "2024-05-27T12:57:13.15859Z",
          "iopub.status.idle": "2024-05-27T12:57:13.265795Z",
          "shell.execute_reply.started": "2024-05-27T12:57:13.158567Z",
          "shell.execute_reply": "2024-05-27T12:57:13.26494Z"
        },
        "trusted": true,
        "id": "3Dpbhbp7nvnF",
        "colab": {
          "base_uri": "https://localhost:8080/"
        },
        "outputId": "5c6fde6c-7d93-4560-b265-dccd423d9c4c"
      },
      "execution_count": 68,
      "outputs": [
        {
          "output_type": "execute_result",
          "data": {
            "text/plain": [
              "{'image': <PIL.JpegImagePlugin.JpegImageFile image mode=L size=48x48>,\n",
              " 'label': 0,\n",
              " 'pixel_values': tensor([[[-1., -1., -1.,  ..., -1., -1., -1.],\n",
              "          [-1., -1., -1.,  ..., -1., -1., -1.],\n",
              "          [-1., -1., -1.,  ..., -1., -1., -1.],\n",
              "          ...,\n",
              "          [-1., -1., -1.,  ..., -1., -1., -1.],\n",
              "          [-1., -1., -1.,  ..., -1., -1., -1.],\n",
              "          [-1., -1., -1.,  ..., -1., -1., -1.]],\n",
              " \n",
              "         [[-1., -1., -1.,  ..., -1., -1., -1.],\n",
              "          [-1., -1., -1.,  ..., -1., -1., -1.],\n",
              "          [-1., -1., -1.,  ..., -1., -1., -1.],\n",
              "          ...,\n",
              "          [-1., -1., -1.,  ..., -1., -1., -1.],\n",
              "          [-1., -1., -1.,  ..., -1., -1., -1.],\n",
              "          [-1., -1., -1.,  ..., -1., -1., -1.]],\n",
              " \n",
              "         [[-1., -1., -1.,  ..., -1., -1., -1.],\n",
              "          [-1., -1., -1.,  ..., -1., -1., -1.],\n",
              "          [-1., -1., -1.,  ..., -1., -1., -1.],\n",
              "          ...,\n",
              "          [-1., -1., -1.,  ..., -1., -1., -1.],\n",
              "          [-1., -1., -1.,  ..., -1., -1., -1.],\n",
              "          [-1., -1., -1.,  ..., -1., -1., -1.]]])}"
            ]
          },
          "metadata": {},
          "execution_count": 68
        }
      ]
    },
    {
      "cell_type": "code",
      "source": [
        "val_data[0]"
      ],
      "metadata": {
        "execution": {
          "iopub.status.busy": "2024-05-27T12:57:13.266835Z",
          "iopub.execute_input": "2024-05-27T12:57:13.267083Z",
          "iopub.status.idle": "2024-05-27T12:57:13.278486Z",
          "shell.execute_reply.started": "2024-05-27T12:57:13.267061Z",
          "shell.execute_reply": "2024-05-27T12:57:13.277482Z"
        },
        "trusted": true,
        "id": "otax9-_TnvnF",
        "colab": {
          "base_uri": "https://localhost:8080/"
        },
        "outputId": "b252f318-9c83-49a9-e389-8b762718a8e4"
      },
      "execution_count": 69,
      "outputs": [
        {
          "output_type": "execute_result",
          "data": {
            "text/plain": [
              "{'image': <PIL.JpegImagePlugin.JpegImageFile image mode=L size=48x48>,\n",
              " 'label': 0,\n",
              " 'pixel_values': tensor([[[-0.6392, -0.6392, -0.6392,  ..., -0.8275, -0.8275, -0.8275],\n",
              "          [-0.6392, -0.6392, -0.6392,  ..., -0.8275, -0.8275, -0.8275],\n",
              "          [-0.6392, -0.6392, -0.6392,  ..., -0.8275, -0.8275, -0.8275],\n",
              "          ...,\n",
              "          [ 0.6314,  0.6314,  0.6314,  ...,  0.4902,  0.4902,  0.4902],\n",
              "          [ 0.6314,  0.6314,  0.6314,  ...,  0.4824,  0.4824,  0.4824],\n",
              "          [ 0.6314,  0.6314,  0.6314,  ...,  0.4824,  0.4824,  0.4824]],\n",
              " \n",
              "         [[-0.6392, -0.6392, -0.6392,  ..., -0.8275, -0.8275, -0.8275],\n",
              "          [-0.6392, -0.6392, -0.6392,  ..., -0.8275, -0.8275, -0.8275],\n",
              "          [-0.6392, -0.6392, -0.6392,  ..., -0.8275, -0.8275, -0.8275],\n",
              "          ...,\n",
              "          [ 0.6314,  0.6314,  0.6314,  ...,  0.4902,  0.4902,  0.4902],\n",
              "          [ 0.6314,  0.6314,  0.6314,  ...,  0.4824,  0.4824,  0.4824],\n",
              "          [ 0.6314,  0.6314,  0.6314,  ...,  0.4824,  0.4824,  0.4824]],\n",
              " \n",
              "         [[-0.6392, -0.6392, -0.6392,  ..., -0.8275, -0.8275, -0.8275],\n",
              "          [-0.6392, -0.6392, -0.6392,  ..., -0.8275, -0.8275, -0.8275],\n",
              "          [-0.6392, -0.6392, -0.6392,  ..., -0.8275, -0.8275, -0.8275],\n",
              "          ...,\n",
              "          [ 0.6314,  0.6314,  0.6314,  ...,  0.4902,  0.4902,  0.4902],\n",
              "          [ 0.6314,  0.6314,  0.6314,  ...,  0.4824,  0.4824,  0.4824],\n",
              "          [ 0.6314,  0.6314,  0.6314,  ...,  0.4824,  0.4824,  0.4824]]])}"
            ]
          },
          "metadata": {},
          "execution_count": 69
        }
      ]
    },
    {
      "cell_type": "markdown",
      "source": [
        "# Modeling"
      ],
      "metadata": {
        "id": "cgXns588g4yc"
      }
    },
    {
      "cell_type": "code",
      "source": [],
      "metadata": {
        "id": "kDHxOGutg4Am"
      },
      "execution_count": 69,
      "outputs": []
    },
    {
      "cell_type": "code",
      "source": [
        "# loading the pretrained ViT model from the Huggingface\n",
        "model = AutoModelForImageClassification.from_pretrained(\n",
        "    model_checkpoint,\n",
        "    label2id=label2id,\n",
        "    id2label=id2label,\n",
        "    ignore_mismatched_sizes = True, # provide this in case you're planning to fine-tune an already fine-tuned checkpoint\n",
        ")"
      ],
      "metadata": {
        "execution": {
          "iopub.status.busy": "2024-05-27T12:57:13.279506Z",
          "iopub.execute_input": "2024-05-27T12:57:13.279965Z",
          "iopub.status.idle": "2024-05-27T12:57:22.069106Z",
          "shell.execute_reply.started": "2024-05-27T12:57:13.279938Z",
          "shell.execute_reply": "2024-05-27T12:57:22.068153Z"
        },
        "trusted": true,
        "id": "Q-2HHV9BnvnF"
      },
      "execution_count": 70,
      "outputs": []
    },
    {
      "cell_type": "code",
      "source": [
        "# log in to huggingface\n",
        "notebook_login()"
      ],
      "metadata": {
        "execution": {
          "iopub.status.busy": "2024-05-27T12:59:00.989628Z",
          "iopub.execute_input": "2024-05-27T12:59:00.990612Z",
          "iopub.status.idle": "2024-05-27T12:59:01.014758Z",
          "shell.execute_reply.started": "2024-05-27T12:59:00.990565Z",
          "shell.execute_reply": "2024-05-27T12:59:01.013538Z"
        },
        "trusted": true,
        "id": "l2AgI6zEnvnF",
        "colab": {
          "base_uri": "https://localhost:8080/",
          "height": 17,
          "referenced_widgets": [
            "1086c315b9cc4ed4884f18d14472abc1",
            "62e9ea7cd19249be99d4297b210fc405",
            "31794b0fc93a4637b4eda2dc2926163e",
            "9ce25a4dd98545a488e4bf1d0fcf0e76",
            "f8211ac177ee46b98fc37d489d575f50",
            "e1b40872c9894c409c2d57c8695db527",
            "42e1c9a3eccc4c459701f3e6acfb7c4a",
            "24c9961fe0c34b8797de1a74605a73c2",
            "dab3c1b047f3405586744a1193b69cd1",
            "429e6196972b47a4b8eb552e89b5f13a",
            "64abef2f2db141a79fd1edfea7bffc77",
            "bbe3920785354829b9bc4bf718cbb8df",
            "694c9a97dce0421ebf789de90a7cb383",
            "e3642cd3bd5c47e9b4ee2da10cddc4f9",
            "762c4cf688244a09ae776221275c673e",
            "94b4b2fe5de84be08766681d119e6b61",
            "b89cc93db45d48f28c351cc0b3e64b6b",
            "f8d79bd41deb4529a9044e7bbf451005",
            "61650c043a1347f58489ddae51ba1180",
            "1ccfdd66de1a40feb7b59613b5812711"
          ]
        },
        "outputId": "a66720c8-3876-4ac2-a514-19d9ce9c2b44"
      },
      "execution_count": 71,
      "outputs": [
        {
          "output_type": "display_data",
          "data": {
            "text/plain": [
              "VBox(children=(HTML(value='<center> <img\\nsrc=https://huggingface.co/front/assets/huggingface_logo-noborder.sv…"
            ],
            "application/vnd.jupyter.widget-view+json": {
              "version_major": 2,
              "version_minor": 0,
              "model_id": "1086c315b9cc4ed4884f18d14472abc1"
            }
          },
          "metadata": {}
        }
      ]
    },
    {
      "cell_type": "code",
      "source": [],
      "metadata": {
        "id": "YruMS97i13H6"
      },
      "execution_count": 71,
      "outputs": []
    },
    {
      "cell_type": "code",
      "source": [
        "import transformers\n",
        "print(transformers.__version__)"
      ],
      "metadata": {
        "colab": {
          "base_uri": "https://localhost:8080/"
        },
        "id": "JR7sjQwk2SHo",
        "outputId": "efc1e5d1-d3e7-4501-bb32-3cf1cfce158d"
      },
      "execution_count": 72,
      "outputs": [
        {
          "output_type": "stream",
          "name": "stdout",
          "text": [
            "4.51.3\n"
          ]
        }
      ]
    },
    {
      "cell_type": "markdown",
      "source": [
        "## Training"
      ],
      "metadata": {
        "id": "E-wvZy92hGVM"
      }
    },
    {
      "cell_type": "code",
      "source": [
        "# Load the model checkpoint\n",
        "model_name = model_checkpoint.split(\"/\")[-1]\n",
        "\n",
        "# Prepare the configs for training\n",
        "args = TrainingArguments(\n",
        "    f\"{model_name}\",\n",
        "    remove_unused_columns=False,\n",
        "    eval_strategy=\"steps\",\n",
        "    save_strategy=\"steps\",  # Align with evaluation_strategy\n",
        "    learning_rate=3e-5,\n",
        "    lr_scheduler_type=\"cosine\",\n",
        "    auto_find_batch_size=True,\n",
        "    per_device_train_batch_size=32,\n",
        "    gradient_accumulation_steps=8,\n",
        "    per_device_eval_batch_size=32,\n",
        "    weight_decay=0.1,\n",
        "    num_train_epochs=3,\n",
        "    warmup_steps=1000,\n",
        "    logging_steps=50,\n",
        "    eval_steps=100,\n",
        "    load_best_model_at_end=True,\n",
        "    metric_for_best_model=\"accuracy\",\n",
        "    push_to_hub=True,\n",
        "    report_to=\"none\"\n",
        ")\n"
      ],
      "metadata": {
        "execution": {
          "iopub.status.busy": "2024-05-27T18:24:05.466866Z",
          "iopub.execute_input": "2024-05-27T18:24:05.467263Z",
          "iopub.status.idle": "2024-05-27T18:24:05.474271Z",
          "shell.execute_reply.started": "2024-05-27T18:24:05.467231Z",
          "shell.execute_reply": "2024-05-27T18:24:05.473287Z"
        },
        "trusted": true,
        "id": "QTj_1yNunvnF"
      },
      "execution_count": 73,
      "outputs": []
    },
    {
      "cell_type": "code",
      "source": [
        "# function to load the data in batches\n",
        "def collate_fn(examples):\n",
        "    pixel_values = torch.stack([example[\"pixel_values\"] for example in examples])\n",
        "    labels = torch.tensor([example[\"label\"] for example in examples])\n",
        "    return {\"pixel_values\": pixel_values, \"labels\": labels}"
      ],
      "metadata": {
        "execution": {
          "iopub.status.busy": "2024-05-27T13:00:58.835013Z",
          "iopub.execute_input": "2024-05-27T13:00:58.835726Z",
          "iopub.status.idle": "2024-05-27T13:00:58.840523Z",
          "shell.execute_reply.started": "2024-05-27T13:00:58.835692Z",
          "shell.execute_reply": "2024-05-27T13:00:58.839674Z"
        },
        "trusted": true,
        "id": "B05FGpVRnvnF"
      },
      "execution_count": 74,
      "outputs": []
    },
    {
      "cell_type": "code",
      "source": [
        "import evaluate\n",
        "import numpy as np\n",
        "\n",
        "# performance metrics\n",
        "accuracy_metric = evaluate.load(\"accuracy\")\n",
        "f1_metric = evaluate.load(\"f1\")\n",
        "\n",
        "def compute_metrics(eval_pred):\n",
        "    predictions = np.argmax(eval_pred.predictions, axis=1)\n",
        "    references = eval_pred.label_ids\n",
        "\n",
        "    return {\n",
        "        \"accuracy\": accuracy_metric.compute(predictions=predictions, references=references)[\"accuracy\"],\n",
        "        \"f1\": f1_metric.compute(predictions=predictions, references=references, average=\"macro\")[\"f1\"]\n",
        "    }\n",
        "\n",
        "# Prepare the trainer\n",
        "trainer = Trainer(\n",
        "    model,\n",
        "    args,\n",
        "    train_dataset=train_data,\n",
        "    eval_dataset=val_data,\n",
        "    tokenizer=image_processor,\n",
        "    compute_metrics=compute_metrics,\n",
        "    data_collator=collate_fn,\n",
        ")"
      ],
      "metadata": {
        "execution": {
          "iopub.status.busy": "2024-05-27T18:24:10.255647Z",
          "iopub.execute_input": "2024-05-27T18:24:10.256503Z",
          "iopub.status.idle": "2024-05-27T18:24:10.503177Z",
          "shell.execute_reply.started": "2024-05-27T18:24:10.256468Z",
          "shell.execute_reply": "2024-05-27T18:24:10.502181Z"
        },
        "trusted": true,
        "id": "AEslm7qpnvnF",
        "colab": {
          "base_uri": "https://localhost:8080/"
        },
        "outputId": "81a7de8b-c698-44b5-da1f-ccf46391fce4"
      },
      "execution_count": 75,
      "outputs": [
        {
          "output_type": "stream",
          "name": "stderr",
          "text": [
            "<ipython-input-75-127e0a7c84d3>:18: FutureWarning: `tokenizer` is deprecated and will be removed in version 5.0.0 for `Trainer.__init__`. Use `processing_class` instead.\n",
            "  trainer = Trainer(\n"
          ]
        }
      ]
    },
    {
      "cell_type": "code",
      "source": [
        "# Train the model\n",
        "train_results = trainer.train()"
      ],
      "metadata": {
        "execution": {
          "iopub.status.busy": "2024-05-27T18:27:08.294373Z",
          "iopub.execute_input": "2024-05-27T18:27:08.295052Z",
          "iopub.status.idle": "2024-05-27T22:58:43.24307Z",
          "shell.execute_reply.started": "2024-05-27T18:27:08.295016Z",
          "shell.execute_reply": "2024-05-27T22:58:43.241921Z"
        },
        "trusted": true,
        "id": "pnsemvuMnvnF",
        "colab": {
          "base_uri": "https://localhost:8080/",
          "height": 169
        },
        "outputId": "e2c2ee17-d0a5-483f-b77f-123a1727ef4b"
      },
      "execution_count": 76,
      "outputs": [
        {
          "output_type": "display_data",
          "data": {
            "text/plain": [
              "<IPython.core.display.HTML object>"
            ],
            "text/html": [
              "\n",
              "    <div>\n",
              "      \n",
              "      <progress value='336' max='336' style='width:300px; height:20px; vertical-align: middle;'></progress>\n",
              "      [336/336 54:23, Epoch 2/3]\n",
              "    </div>\n",
              "    <table border=\"1\" class=\"dataframe\">\n",
              "  <thead>\n",
              " <tr style=\"text-align: left;\">\n",
              "      <th>Step</th>\n",
              "      <th>Training Loss</th>\n",
              "      <th>Validation Loss</th>\n",
              "      <th>Accuracy</th>\n",
              "      <th>F1</th>\n",
              "    </tr>\n",
              "  </thead>\n",
              "  <tbody>\n",
              "    <tr>\n",
              "      <td>100</td>\n",
              "      <td>0.528100</td>\n",
              "      <td>0.255397</td>\n",
              "      <td>0.913068</td>\n",
              "      <td>0.911832</td>\n",
              "    </tr>\n",
              "    <tr>\n",
              "      <td>200</td>\n",
              "      <td>0.527800</td>\n",
              "      <td>0.253532</td>\n",
              "      <td>0.913625</td>\n",
              "      <td>0.912742</td>\n",
              "    </tr>\n",
              "    <tr>\n",
              "      <td>300</td>\n",
              "      <td>0.499200</td>\n",
              "      <td>0.260235</td>\n",
              "      <td>0.910699</td>\n",
              "      <td>0.908519</td>\n",
              "    </tr>\n",
              "  </tbody>\n",
              "</table><p>"
            ]
          },
          "metadata": {}
        }
      ]
    },
    {
      "cell_type": "markdown",
      "source": [
        "## Evaluation"
      ],
      "metadata": {
        "id": "EFrHqmNTZNdC"
      }
    },
    {
      "cell_type": "code",
      "source": [
        "metrics = trainer.evaluate()\n",
        "# some nice to haves:\n",
        "trainer.log_metrics(\"eval\", metrics)\n",
        "trainer.save_metrics(\"eval\", metrics)"
      ],
      "metadata": {
        "colab": {
          "base_uri": "https://localhost:8080/",
          "height": 176
        },
        "id": "Yj6r4xT0ROyw",
        "outputId": "e63cc560-98d4-4010-e2b5-ec6bf503ad2f"
      },
      "execution_count": 77,
      "outputs": [
        {
          "output_type": "display_data",
          "data": {
            "text/plain": [
              "<IPython.core.display.HTML object>"
            ],
            "text/html": [
              "\n",
              "    <div>\n",
              "      \n",
              "      <progress value='225' max='225' style='width:300px; height:20px; vertical-align: middle;'></progress>\n",
              "      [225/225 01:26]\n",
              "    </div>\n",
              "    "
            ]
          },
          "metadata": {}
        },
        {
          "output_type": "stream",
          "name": "stdout",
          "text": [
            "***** eval metrics *****\n",
            "  epoch                   =       2.98\n",
            "  eval_accuracy           =     0.9135\n",
            "  eval_f1                 =     0.9137\n",
            "  eval_loss               =     0.2561\n",
            "  eval_runtime            = 0:01:26.95\n",
            "  eval_samples_per_second =     82.549\n",
            "  eval_steps_per_second   =      2.588\n"
          ]
        }
      ]
    },
    {
      "cell_type": "code",
      "source": [
        "metrics = trainer.evaluate()\n",
        "# some nice to haves:\n",
        "trainer.log_metrics(\"eval\", metrics)\n",
        "trainer.save_metrics(\"eval\", metrics)"
      ],
      "metadata": {
        "execution": {
          "iopub.status.busy": "2024-05-27T23:00:19.599654Z",
          "iopub.execute_input": "2024-05-27T23:00:19.600061Z",
          "iopub.status.idle": "2024-05-27T23:05:59.452866Z",
          "shell.execute_reply.started": "2024-05-27T23:00:19.60003Z",
          "shell.execute_reply": "2024-05-27T23:05:59.451852Z"
        },
        "trusted": true,
        "id": "EnbKbliUnvnF",
        "colab": {
          "base_uri": "https://localhost:8080/",
          "height": 176
        },
        "outputId": "13d24f26-2ba1-4f95-92fa-5ce8a9b77e2f"
      },
      "execution_count": 78,
      "outputs": [
        {
          "output_type": "display_data",
          "data": {
            "text/plain": [
              "<IPython.core.display.HTML object>"
            ],
            "text/html": [
              "\n",
              "    <div>\n",
              "      \n",
              "      <progress value='450' max='225' style='width:300px; height:20px; vertical-align: middle;'></progress>\n",
              "      [225/225 02:52]\n",
              "    </div>\n",
              "    "
            ]
          },
          "metadata": {}
        },
        {
          "output_type": "stream",
          "name": "stdout",
          "text": [
            "***** eval metrics *****\n",
            "  epoch                   =       2.98\n",
            "  eval_accuracy           =     0.9135\n",
            "  eval_f1                 =     0.9137\n",
            "  eval_loss               =     0.2561\n",
            "  eval_runtime            = 0:01:26.17\n",
            "  eval_samples_per_second =     83.295\n",
            "  eval_steps_per_second   =      2.611\n"
          ]
        }
      ]
    },
    {
      "cell_type": "code",
      "source": [
        "# Push the model to hub for efficient use\n",
        "trainer.push_to_hub()"
      ],
      "metadata": {
        "execution": {
          "iopub.status.busy": "2024-05-27T23:15:18.613203Z",
          "iopub.execute_input": "2024-05-27T23:15:18.613572Z",
          "iopub.status.idle": "2024-05-27T23:15:21.552535Z",
          "shell.execute_reply.started": "2024-05-27T23:15:18.613542Z",
          "shell.execute_reply": "2024-05-27T23:15:21.55167Z"
        },
        "trusted": true,
        "id": "h5pYUOAwnvnF",
        "colab": {
          "base_uri": "https://localhost:8080/",
          "height": 69
        },
        "outputId": "088b4edd-2044-44a3-d40f-d48043a511ff"
      },
      "execution_count": 79,
      "outputs": [
        {
          "output_type": "execute_result",
          "data": {
            "text/plain": [
              "CommitInfo(commit_url='https://huggingface.co/shrestha1/vit-Facial-Expression-Recognition/commit/af3e46d3a9bc7d70750b080cdc7730cbab7d90cd', commit_message='End of training', commit_description='', oid='af3e46d3a9bc7d70750b080cdc7730cbab7d90cd', pr_url=None, repo_url=RepoUrl('https://huggingface.co/shrestha1/vit-Facial-Expression-Recognition', endpoint='https://huggingface.co', repo_type='model', repo_id='shrestha1/vit-Facial-Expression-Recognition'), pr_revision=None, pr_num=None)"
            ],
            "application/vnd.google.colaboratory.intrinsic+json": {
              "type": "string"
            }
          },
          "metadata": {},
          "execution_count": 79
        }
      ]
    },
    {
      "cell_type": "code",
      "source": [
        "# Use the trained 'trainer' to make predictions on the 'test_data'.\n",
        "outputs = trainer.predict(val_data)\n",
        "\n",
        "# Print the metrics obtained from the prediction outputs.\n",
        "print(outputs.metrics)"
      ],
      "metadata": {
        "execution": {
          "iopub.status.busy": "2024-05-27T23:08:27.103423Z",
          "iopub.execute_input": "2024-05-27T23:08:27.104105Z",
          "iopub.status.idle": "2024-05-27T23:14:06.265229Z",
          "shell.execute_reply.started": "2024-05-27T23:08:27.104071Z",
          "shell.execute_reply": "2024-05-27T23:14:06.264315Z"
        },
        "trusted": true,
        "id": "h8KPBb8knvnG",
        "colab": {
          "base_uri": "https://localhost:8080/",
          "height": 54
        },
        "outputId": "63f8a3a6-dfaf-4adb-a0eb-05929102116d"
      },
      "execution_count": 80,
      "outputs": [
        {
          "output_type": "display_data",
          "data": {
            "text/plain": [
              "<IPython.core.display.HTML object>"
            ],
            "text/html": []
          },
          "metadata": {}
        },
        {
          "output_type": "stream",
          "name": "stdout",
          "text": [
            "{'test_loss': 0.256076455116272, 'test_accuracy': 0.9134856505990526, 'test_f1': 0.9136646089357647, 'test_runtime': 86.6567, 'test_samples_per_second': 82.833, 'test_steps_per_second': 2.596}\n"
          ]
        }
      ]
    },
    {
      "cell_type": "markdown",
      "source": [
        "## Testing"
      ],
      "metadata": {
        "id": "ICKqXFerZSkY"
      }
    },
    {
      "cell_type": "code",
      "source": [
        "pipe=pipeline(model = 'shrestha1/vit-Facial-Expression-Recognition')"
      ],
      "metadata": {
        "execution": {
          "iopub.status.busy": "2024-05-27T23:15:26.516847Z",
          "iopub.execute_input": "2024-05-27T23:15:26.517196Z",
          "iopub.status.idle": "2024-05-27T23:15:41.672373Z",
          "shell.execute_reply.started": "2024-05-27T23:15:26.517168Z",
          "shell.execute_reply": "2024-05-27T23:15:41.671609Z"
        },
        "trusted": true,
        "id": "QBLItDc2nvnM",
        "colab": {
          "base_uri": "https://localhost:8080/",
          "height": 130,
          "referenced_widgets": [
            "b14bb6bcb0974a92a932904c31585aca",
            "9c1d05b0c42b4589b8b7fc4a7f56527d",
            "6f969d274ca84e50ba7a188ac1854caf",
            "6a8a1616b3cd4c5483b8295e151678d9",
            "126b10da65764f91ba68be6c89b2343d",
            "d7b2042b4abe496e898cb1710b699628",
            "6d7600575af543eabee6ae6e0fd670a7",
            "9787cc07b5a44ef495bf93f6909a0ccd",
            "048ab28d3d3e43ba99c4cedf5da26289",
            "ef66c62076c24aebb30585253150afc6",
            "ef81af64af924538bd85137fc53eb490",
            "316feef6740e4d8192853c1586620fe4",
            "9a07cbf840304b878702428a6b59bd9b",
            "0aaa6d3699504e7295f28c8488597670",
            "be555e3f0ccc4366be0dd2f079b9db4e",
            "1dfb06818c49447494206be0782c0f5d",
            "55b94a6ccf0c40138a22fa948da3a5f9",
            "161fb96ef625447986b2f107d752db7e",
            "4a25677764764f018371595c818ab10d",
            "9c5cda2535b642b8b72817e3a1b09780",
            "25958ba83c254082b9728f0c3ec86b78",
            "c517ef2b7e344bc5a66da89980732c58",
            "9fd4545099074bf69927d133b5c5cd5a",
            "9fdaeeeedb7e4edfbe8650421144df2e",
            "636d727da0414ea3979c6e9d65056f27",
            "ea74182c0a844d04a74fe538c5b24472",
            "6b765ed8000e428f95db3631dc4ff94f",
            "1dcc3792823844c3ab219223f410d8dd",
            "b4f5f930a6424bc1afaf9d2d83a0b15d",
            "8a14ed7712ed43089d21b227a56e6f98",
            "724907d67c3a4ef68f4b21335e531932",
            "b36c8049b6d74f18992f1d1dd7f4b891",
            "c13d100e9d654f298d77d7a7491a3807"
          ]
        },
        "outputId": "5324346c-a785-42f7-a039-f4d26eaba932"
      },
      "execution_count": 81,
      "outputs": [
        {
          "output_type": "display_data",
          "data": {
            "text/plain": [
              "config.json:   0%|          | 0.00/898 [00:00<?, ?B/s]"
            ],
            "application/vnd.jupyter.widget-view+json": {
              "version_major": 2,
              "version_minor": 0,
              "model_id": "b14bb6bcb0974a92a932904c31585aca"
            }
          },
          "metadata": {}
        },
        {
          "output_type": "display_data",
          "data": {
            "text/plain": [
              "model.safetensors:   0%|          | 0.00/343M [00:00<?, ?B/s]"
            ],
            "application/vnd.jupyter.widget-view+json": {
              "version_major": 2,
              "version_minor": 0,
              "model_id": "316feef6740e4d8192853c1586620fe4"
            }
          },
          "metadata": {}
        },
        {
          "output_type": "display_data",
          "data": {
            "text/plain": [
              "preprocessor_config.json:   0%|          | 0.00/351 [00:00<?, ?B/s]"
            ],
            "application/vnd.jupyter.widget-view+json": {
              "version_major": 2,
              "version_minor": 0,
              "model_id": "9fd4545099074bf69927d133b5c5cd5a"
            }
          },
          "metadata": {}
        },
        {
          "output_type": "stream",
          "name": "stderr",
          "text": [
            "Device set to use cuda:0\n"
          ]
        }
      ]
    },
    {
      "cell_type": "code",
      "source": [
        "import matplotlib.pyplot as plt\n",
        "import matplotlib.image as mpimg\n",
        "\n",
        "\n",
        "# Load the image file\n",
        "image_path = '/kaggle/input/testing-fer/testing_FER/happy2.jpg'  # Replace with the actual path to your image file\n",
        "img = mpimg.imread(image_path)\n",
        "\n",
        "# Display the image\n",
        "plt.imshow(img)\n",
        "plt.axis('off')  # Turn off axis labels\n",
        "plt.show()"
      ],
      "metadata": {
        "execution": {
          "iopub.status.busy": "2024-05-27T23:16:38.26079Z",
          "iopub.execute_input": "2024-05-27T23:16:38.26118Z",
          "iopub.status.idle": "2024-05-27T23:16:38.454021Z",
          "shell.execute_reply.started": "2024-05-27T23:16:38.26115Z",
          "shell.execute_reply": "2024-05-27T23:16:38.453162Z"
        },
        "trusted": true,
        "id": "wnyTfbbjnvnM",
        "colab": {
          "base_uri": "https://localhost:8080/",
          "height": 348
        },
        "outputId": "14d9ccda-8179-405f-ab8c-c0a43a6b4c71"
      },
      "execution_count": 82,
      "outputs": [
        {
          "output_type": "display_data",
          "data": {
            "text/plain": [
              "<Figure size 640x480 with 1 Axes>"
            ],
            "image/png": "[encoded data removed]"
          },
          "metadata": {}
        }
      ]
    },
    {
      "cell_type": "code",
      "source": [
        "from transformers import pipeline\n",
        "\n",
        "pipe=pipeline(model = 'shrestha1/vit-Facial-Expression-Recognition')\n",
        "pipe(\"/kaggle/input/testing-fer/testing_FER/happy2.jpg\")"
      ],
      "metadata": {
        "execution": {
          "iopub.status.busy": "2024-05-27T23:16:21.115704Z",
          "iopub.execute_input": "2024-05-27T23:16:21.116069Z",
          "iopub.status.idle": "2024-05-27T23:16:21.426836Z",
          "shell.execute_reply.started": "2024-05-27T23:16:21.11604Z",
          "shell.execute_reply": "2024-05-27T23:16:21.425574Z"
        },
        "trusted": true,
        "id": "eTqJbkc3nvnN",
        "colab": {
          "base_uri": "https://localhost:8080/"
        },
        "outputId": "54f38c23-adb2-4049-9e7e-7844b373c4c5"
      },
      "execution_count": 83,
      "outputs": [
        {
          "output_type": "stream",
          "name": "stderr",
          "text": [
            "Device set to use cuda:0\n"
          ]
        },
        {
          "output_type": "execute_result",
          "data": {
            "text/plain": [
              "[{'label': 'happy', 'score': 0.9180616140365601},\n",
              " {'label': 'surprise', 'score': 0.061150286346673965},\n",
              " {'label': 'neutral', 'score': 0.007926372811198235},\n",
              " {'label': 'disgust', 'score': 0.005788198206573725},\n",
              " {'label': 'sad', 'score': 0.0029309685342013836}]"
            ]
          },
          "metadata": {},
          "execution_count": 83
        }
      ]
    },
    {
      "cell_type": "code",
      "source": [
        "labels_list = ['sad', 'disgust', 'angry', 'neutral', 'fear', 'surprise', 'happy'] # list(set(labels))\n",
        "# Extract the true labels from the model outputs\n",
        "y_true = outputs.label_ids\n",
        "\n",
        "# Predict the labels by selecting the class with the highest probability\n",
        "y_pred = outputs.predictions.argmax(1)\n",
        "\n",
        "# Define a function to plot a confusion matrix\n",
        "def plot_confusion_matrix(cm, classes, title='Confusion Matrix', cmap=plt.cm.Blues, figsize=(10, 8)):\n",
        "    \"\"\"\n",
        "    This function plots a confusion matrix.\n",
        "\n",
        "    Parameters:\n",
        "        cm (array-like): Confusion matrix as returned by sklearn.metrics.confusion_matrix.\n",
        "        classes (list): List of class names, e.g., ['Class 0', 'Class 1'].\n",
        "        title (str): Title for the plot.\n",
        "        cmap (matplotlib colormap): Colormap for the plot.\n",
        "    \"\"\"\n",
        "    # Create a figure with a specified size\n",
        "    plt.figure(figsize=figsize)\n",
        "\n",
        "    # Display the confusion matrix as an image with a colormap\n",
        "    plt.imshow(cm, interpolation='nearest', cmap=cmap)\n",
        "    plt.title(title)\n",
        "    plt.colorbar()\n",
        "\n",
        "    # Define tick marks and labels for the classes on the axes\n",
        "    tick_marks = np.arange(len(classes))\n",
        "    plt.xticks(tick_marks, classes, rotation=90)\n",
        "    plt.yticks(tick_marks, classes)\n",
        "\n",
        "    fmt = '.0f'\n",
        "    # Add text annotations to the plot indicating the values in the cells\n",
        "    thresh = cm.max() / 2.0\n",
        "    for i, j in itertools.product(range(cm.shape[0]), range(cm.shape[1])):\n",
        "        plt.text(j, i, format(cm[i, j], fmt), horizontalalignment=\"center\", color=\"white\" if cm[i, j] > thresh else \"black\")\n",
        "\n",
        "    # Label the axes\n",
        "    plt.ylabel('True label')\n",
        "    plt.xlabel('Predicted label')\n",
        "\n",
        "    # Ensure the plot layout is tight\n",
        "    plt.tight_layout()\n",
        "    # Display the plot\n",
        "    plt.show()\n",
        "\n",
        "# Calculate accuracy and F1 score\n",
        "accuracy = accuracy_score(y_true, y_pred)\n",
        "f1 = f1_score(y_true, y_pred, average='macro')\n",
        "\n",
        "# Display accuracy and F1 score\n",
        "print(f\"Accuracy: {accuracy:.4f}\")\n",
        "print(f\"F1 Score: {f1:.4f}\")\n",
        "\n",
        "# Get the confusion matrix if there are a small number of labels\n",
        "if len(labels_list) <= 150:\n",
        "    # Compute the confusion matrix\n",
        "    cm = confusion_matrix(y_true, y_pred)\n",
        "\n",
        "    # Plot the confusion matrix using the defined function\n",
        "    plot_confusion_matrix(cm, labels_list, figsize=(8, 6))\n",
        "\n",
        "# Finally, display classification report\n",
        "print()\n",
        "print(\"Classification report:\")\n",
        "print()\n",
        "print(classification_report(y_true, y_pred, target_names=labels_list, digits=4))"
      ],
      "metadata": {
        "execution": {
          "iopub.status.busy": "2024-05-27T23:15:02.957221Z",
          "iopub.execute_input": "2024-05-27T23:15:02.957576Z",
          "iopub.status.idle": "2024-05-27T23:15:03.516857Z",
          "shell.execute_reply.started": "2024-05-27T23:15:02.957547Z",
          "shell.execute_reply": "2024-05-27T23:15:03.515936Z"
        },
        "trusted": true,
        "id": "d2pDsihanvnN",
        "colab": {
          "base_uri": "https://localhost:8080/",
          "height": 937
        },
        "outputId": "66a56621-7917-4973-fd19-2a99cd2cf58d"
      },
      "execution_count": 84,
      "outputs": [
        {
          "output_type": "stream",
          "name": "stdout",
          "text": [
            "Accuracy: 0.9135\n",
            "F1 Score: 0.9137\n"
          ]
        },
        {
          "output_type": "display_data",
          "data": {
            "text/plain": [
              "<Figure size 800x600 with 2 Axes>"
            ],
            "image/png": "[encoded data removed]"
          },
          "metadata": {}
        },
        {
          "output_type": "stream",
          "name": "stdout",
          "text": [
            "\n",
            "Classification report:\n",
            "\n",
            "              precision    recall  f1-score   support\n",
            "\n",
            "         sad     0.9007    0.8904    0.8955       958\n",
            "     disgust     0.9806    0.9099    0.9439       111\n",
            "       angry     0.8548    0.8682    0.8614      1024\n",
            "     neutral     0.9699    0.9628    0.9663      1774\n",
            "        fear     0.9146    0.9035    0.9090      1233\n",
            "    surprise     0.8645    0.9006    0.8822      1247\n",
            "       happy     0.9494    0.9254    0.9372       831\n",
            "\n",
            "    accuracy                         0.9135      7178\n",
            "   macro avg     0.9192    0.9087    0.9137      7178\n",
            "weighted avg     0.9142    0.9135    0.9137      7178\n",
            "\n"
          ]
        }
      ]
    }
  ]
}